{
 "cells": [
  {
   "cell_type": "markdown",
   "id": "bc2a070d",
   "metadata": {
    "id": "bc2a070d",
    "slideshow": {
     "slide_type": "slide"
    }
   },
   "source": [
    "# 💠 AYUDANTÍA 1: OOP 1 💠\n",
    "\n",
    "Ayudantes  👨‍💻\n",
    "* **Diego Milla**\n",
    "* **Valentina Barría**\n",
    "* **Julio Huerta**"
   ]
  },
  {
   "cell_type": "markdown",
   "id": "8b026211",
   "metadata": {
    "id": "8b026211",
    "slideshow": {
     "slide_type": "slide"
    }
   },
   "source": [
    "## Objetos 🤖\n",
    "\n",
    "En OOP los objetos son descritos de manera general mediante clases. Una clase describe los datos que caracterizan a un objeto; a estos datos los llamamos **atributos**. Ademas también describe los comportamientos de los objetos, y a estos los llamamos **métodos**. \n",
    "\n",
    "Cada vez que creamos un objeto a partir de una clase, decimos que estamos **instanciando** esa clase, por lo tanto un objeto es una instancia de una clase."
   ]
  },
  {
   "cell_type": "code",
   "execution_count": null,
   "id": "83d35e29",
   "metadata": {
    "id": "83d35e29",
    "slideshow": {
     "slide_type": "slide"
    }
   },
   "outputs": [],
   "source": [
    "class Humano:\n",
    "    \n",
    "    def __init__(self, nombre, edad, peso): \n",
    "        self.nombre = nombre                                   \n",
    "        self.edad = edad\n",
    "        self.peso = peso\n",
    "        self.vivo = True\n",
    "\n",
    "    def ir_al_baño(self):\n",
    "        self.peso -= 2\n",
    "        print(f\"{self.nombre} hizo del 2 y ahora pesa {self.peso} kg\")\n",
    "\n",
    "    def cumpleaños(self):\n",
    "        self.edad += 1\n",
    "        print(f\"Es el cumpleaños de {self.nombre} y cumple {self.edad} años\")"
   ]
  },
  {
   "cell_type": "code",
   "execution_count": null,
   "id": "90282b5b",
   "metadata": {
    "id": "90282b5b",
    "outputId": "626b5233-4c66-4134-f142-0d6d2e785c32",
    "slideshow": {
     "slide_type": "slide"
    }
   },
   "outputs": [
    {
     "name": "stdout",
     "output_type": "stream",
     "text": [
      "Diego tiene 20 años y pesa 75.5 kg\n",
      "Valentina tiene 21 años y pesa 50.2 kg\n",
      "\n",
      "---------------------------------------------\n",
      "\n",
      "Diego hizo del 2 y ahora pesa 73.5 kg\n",
      "Es el cumpleaños de Valentina y cumple 22 años\n"
     ]
    }
   ],
   "source": [
    "humano_1 = Humano(\"Diego\", 20, 75.5)\n",
    "humano_2 = Humano(\"Valentina\", 21, 50.2)\n",
    "\n",
    "print(f\"{humano_1.nombre} tiene {humano_1.edad} años y pesa {humano_1.peso} kg\")\n",
    "print(f\"{humano_2.nombre} tiene {humano_2.edad} años y pesa {humano_2.peso} kg\")\n",
    "\n",
    "print(\"\\n\"+\"-\"*45 + \"\\n\")\n",
    "\n",
    "humano_1.ir_al_baño()\n",
    "humano_2.cumpleaños()"
   ]
  },
  {
   "cell_type": "markdown",
   "id": "be9f3420",
   "metadata": {
    "id": "be9f3420",
    "slideshow": {
     "slide_type": "slide"
    }
   },
   "source": [
    "Diferencia entre Clase y Objeto:\n",
    "\n",
    "**Clase**: Humano()\n",
    "\n",
    "**Objeto**: humano_1 y humano_2"
   ]
  },
  {
   "cell_type": "markdown",
   "id": "e75b0d94",
   "metadata": {
    "id": "e75b0d94",
    "slideshow": {
     "slide_type": "slide"
    }
   },
   "source": [
    "##  Encapsulamiento 💊\n",
    "\n",
    "Una característica muy favorecida en OOP es el encapsulamiento. El encapsulamiento se refiere al ocultamiento de los atributos de un objeto de manera que éstos sólo puedan ser modificados mediante los métodos que el programador defina."
   ]
  },
  {
   "cell_type": "markdown",
   "id": "lZNwxxhYUD-r",
   "metadata": {
    "id": "lZNwxxhYUD-r",
    "slideshow": {
     "slide_type": "slide"
    }
   },
   "source": [
    "En Python todos los atributos y métodos de un objeto son públicos (a diferencia de otros lenguajes como Java). Esto complicaría la implementación del encapsulamiento en Python; sin embargo existe, una convención que permite sugerir que un método o atributo es de uso únicamente interno (y por lo tanto oculto al exterior).\n",
    "\n",
    "Esto se hace agregando un caracter underscore (_) al inicio del atributo o método, como en el siguiente ejemplo:"
   ]
  },
  {
   "cell_type": "code",
   "execution_count": 1,
   "id": "f0e6a4c4",
   "metadata": {
    "id": "f0e6a4c4",
    "slideshow": {
     "slide_type": "slide"
    }
   },
   "outputs": [
    {
     "name": "stdout",
     "output_type": "stream",
     "text": [
      "Ingrese usuario: joca404\n",
      "Ingrese clave: peppa123\n",
      "Ingresaste correctamente a github!\n"
     ]
    }
   ],
   "source": [
    "class AlumnoIIC2233():\n",
    "    def __init__(self, nombre, usuario_github, clave_github):\n",
    "        self.nombre = nombre\n",
    "        self.usuario_github = usuario_github\n",
    "        self._clave_github = clave_github     #Atributo oculto\n",
    "\n",
    "    def ingresar_a_github(self):\n",
    "        usuario = input(\"Ingrese usuario: \")\n",
    "        clave = input(\"Ingrese clave: \")\n",
    "        if clave == self._clave_github and usuario == self.usuario_github:\n",
    "            print(\"Ingresaste correctamente a github!\")\n",
    "        else:\n",
    "            print(\"Algún input no es correcto:(\")\n",
    "            \n",
    "    def _ingresar_canal_secreto(self):        #Método oculto\n",
    "        print(\"Procastino viendo anime sin que nadie sepa\")\n",
    "        \n",
    "alumno_1 = AlumnoIIC2233(\"Joaquin\", \"joca404\", \"peppa123\")\n",
    "alumno_1.ingresar_a_github()"
   ]
  },
  {
   "cell_type": "markdown",
   "id": "9ef70eb0",
   "metadata": {
    "id": "9ef70eb0",
    "slideshow": {
     "slide_type": "slide"
    }
   },
   "source": [
    "Aunque como todo esto sólo una convención, aún podemos acceder a ellos directamente."
   ]
  },
  {
   "cell_type": "code",
   "execution_count": null,
   "id": "93898e18",
   "metadata": {
    "colab": {
     "base_uri": "https://localhost:8080/"
    },
    "id": "93898e18",
    "outputId": "be7ac93c-7036-4a93-c435-73b2308ff237",
    "slideshow": {
     "slide_type": "slide"
    }
   },
   "outputs": [
    {
     "name": "stdout",
     "output_type": "stream",
     "text": [
      "No debería poder leer que la clave es peppa123\n",
      "Procastino viendo anime sin que nadie sepa\n"
     ]
    }
   ],
   "source": [
    "print(f\"No debería poder leer que la clave es {alumno_1._clave_github}\")\n",
    "alumno_1._ingresar_canal_secreto() "
   ]
  },
  {
   "cell_type": "markdown",
   "id": "31df78c7",
   "metadata": {
    "id": "31df78c7",
    "slideshow": {
     "slide_type": "slide"
    }
   },
   "source": [
    " Si queremos (casi) realmente tener atributos y métodos que no puedan ser llamados directamente, podemos iniciar con doble underscore como en el siguiente ejemplo."
   ]
  },
  {
   "cell_type": "code",
   "execution_count": 4,
   "id": "736016a3",
   "metadata": {
    "id": "736016a3",
    "slideshow": {
     "slide_type": "slide"
    }
   },
   "outputs": [],
   "source": [
    "class AlumnoIIC2233():\n",
    "    def __init__(self, nombre, usuario_github, clave_github):\n",
    "        self.nombre = nombre\n",
    "        self.usuario_github = usuario_github\n",
    "        self.__clave_github = clave_github\n",
    "\n",
    "    def ingresar_a_github(self):\n",
    "        usuario = input(\"Ingrese usuario: \")\n",
    "        clave = input(\"Ingrese clave: \")\n",
    "        if clave == self.__clave_github and usuario == self.usuario_github:\n",
    "            print(\"Ingresaste correctamente a github!\")\n",
    "        else:\n",
    "            print(\"Algún input no es correcto:(\")\n",
    "            \n",
    "    def __ingresar_canal_secreto(self):\n",
    "        print(\"Procastino viendo anime sin que nadie sepa\")"
   ]
  },
  {
   "cell_type": "code",
   "execution_count": null,
   "id": "da3be37e",
   "metadata": {
    "colab": {
     "base_uri": "https://localhost:8080/",
     "height": 187
    },
    "id": "da3be37e",
    "outputId": "33ab435f-1cb0-4924-f8bb-465e97d9e56c",
    "slideshow": {
     "slide_type": "slide"
    }
   },
   "outputs": [
    {
     "ename": "AttributeError",
     "evalue": "ignored",
     "output_type": "error",
     "traceback": [
      "\u001b[0;31m---------------------------------------------------------------------------\u001b[0m",
      "\u001b[0;31mAttributeError\u001b[0m                            Traceback (most recent call last)",
      "\u001b[0;32m<ipython-input-11-7f01fbbb0b3b>\u001b[0m in \u001b[0;36m<module>\u001b[0;34m\u001b[0m\n\u001b[1;32m      1\u001b[0m \u001b[0malumno_1\u001b[0m \u001b[0;34m=\u001b[0m \u001b[0mAlumnoIIC2233\u001b[0m\u001b[0;34m(\u001b[0m\u001b[0;34m\"joaquin\"\u001b[0m\u001b[0;34m,\u001b[0m \u001b[0;34m\"joca122\"\u001b[0m\u001b[0;34m,\u001b[0m \u001b[0;34m\"rata123\"\u001b[0m\u001b[0;34m)\u001b[0m\u001b[0;34m\u001b[0m\u001b[0;34m\u001b[0m\u001b[0m\n\u001b[0;32m----> 2\u001b[0;31m \u001b[0mprint\u001b[0m\u001b[0;34m(\u001b[0m\u001b[0;34mf\"No debería poder leer que la clave es {alumno_1.__clave_github}\"\u001b[0m\u001b[0;34m)\u001b[0m \u001b[0;31m# No puedo verlo\u001b[0m\u001b[0;34m\u001b[0m\u001b[0;34m\u001b[0m\u001b[0m\n\u001b[0m",
      "\u001b[0;31mAttributeError\u001b[0m: 'AlumnoIIC2233' object has no attribute '__clave_github'"
     ]
    }
   ],
   "source": [
    "alumno_1 = AlumnoIIC2233(\"joaquin\", \"joca122\", \"rata123\")\n",
    "print(f\"No debería poder leer que la clave es {alumno_1.__clave_github}\") # No puedo verlo"
   ]
  },
  {
   "cell_type": "code",
   "execution_count": null,
   "id": "bc23fba1",
   "metadata": {
    "id": "bc23fba1",
    "outputId": "0b2d2c6c-754c-4735-fad5-5b97bb93bf71",
    "slideshow": {
     "slide_type": "slide"
    }
   },
   "outputs": [
    {
     "ename": "AttributeError",
     "evalue": "'AlumnoIIC2233' object has no attribute '__ingresar_canal_secreto'",
     "output_type": "error",
     "traceback": [
      "\u001b[1;31m---------------------------------------------------------------------------\u001b[0m",
      "\u001b[1;31mAttributeError\u001b[0m                            Traceback (most recent call last)",
      "Input \u001b[1;32mIn [5]\u001b[0m, in \u001b[0;36m<cell line: 1>\u001b[1;34m()\u001b[0m\n\u001b[1;32m----> 1\u001b[0m \u001b[43malumno_1\u001b[49m\u001b[38;5;241;43m.\u001b[39;49m\u001b[43m__ingresar_canal_secreto\u001b[49m()\n",
      "\u001b[1;31mAttributeError\u001b[0m: 'AlumnoIIC2233' object has no attribute '__ingresar_canal_secreto'"
     ]
    }
   ],
   "source": [
    "alumno_1.__ingresar_canal_secreto() # No puedo verlo"
   ]
  },
  {
   "cell_type": "markdown",
   "id": "2ZvjDovRVbCA",
   "metadata": {
    "id": "2ZvjDovRVbCA",
    "slideshow": {
     "slide_type": "slide"
    }
   },
   "source": [
    "Podemos ver que Python oculta los atributos y metodos sugeridos y lanza excepciones de tipo `AttributeError`, indicando que estos \"no existen\". \n",
    "\n",
    "En realidad cuando un atributo o método empieza con doble underscore, Python reemplaza internamente sus nombres por `_NombreDeLaClase__atributo_o_metodo_secreto`\n",
    "\n",
    "Por lo tanto podemos ser más astutos y escribir:"
   ]
  },
  {
   "cell_type": "code",
   "execution_count": null,
   "id": "6efc39d2",
   "metadata": {
    "colab": {
     "base_uri": "https://localhost:8080/"
    },
    "id": "6efc39d2",
    "outputId": "3a7259ba-6cb3-4ef6-e39e-1f2bdea370b3",
    "slideshow": {
     "slide_type": "slide"
    }
   },
   "outputs": [
    {
     "name": "stdout",
     "output_type": "stream",
     "text": [
      "Ahora sí puedo ver que la clave secreta es rata123\n",
      "Procastino viendo anime sin que nadie sepa\n"
     ]
    }
   ],
   "source": [
    "print(f\"Ahora sí puedo ver que la clave secreta es {alumno_1._AlumnoIIC2233__clave_github}\")\n",
    "alumno_1._AlumnoIIC2233__ingresar_canal_secreto()"
   ]
  },
  {
   "cell_type": "markdown",
   "id": "a21d2beb",
   "metadata": {
    "id": "a21d2beb",
    "slideshow": {
     "slide_type": "slide"
    }
   },
   "source": [
    "Estas características son, en cualquier caso, exclusivas de Python y su objetivo es disminuir la posibilidad de errores por parte del programador al proveer algo que simula la existencia de atributos y métodos privados en un lenguaje que por diseño no los tiene."
   ]
  },
  {
   "cell_type": "markdown",
   "id": "2b2d5dd0",
   "metadata": {
    "id": "2b2d5dd0",
    "slideshow": {
     "slide_type": "slide"
    }
   },
   "source": [
    "## Properties 👽\n",
    "\n",
    "En Python, una property funciona como un atributo, pero sobre el cual podemos modificar su comportamiento cada vez que es leído (**get**), escrito (**set**), o eliminado (**del**). "
   ]
  },
  {
   "cell_type": "markdown",
   "id": "523c4e13",
   "metadata": {
    "id": "523c4e13",
    "slideshow": {
     "slide_type": "slide"
    }
   },
   "source": [
    "Continuando con el ejemplo anterior, ahora el alumno va sumando puntaje a medida que avanza el curso. El puntaje debe estar en el rango de 0 a 100."
   ]
  },
  {
   "cell_type": "code",
   "execution_count": null,
   "id": "eb5b5e36",
   "metadata": {
    "id": "eb5b5e36",
    "slideshow": {
     "slide_type": "slide"
    }
   },
   "outputs": [],
   "source": [
    "class AlumnoIIC2233():\n",
    "    def __init__(self, nombre, puntaje, usuario_github, clave_github):\n",
    "        self.nombre = nombre\n",
    "        self.max_pte = 100\n",
    "        self.min_pte = 0\n",
    "        self.__puntaje = puntaje\n",
    "        self.usuario_github = usuario_github\n",
    "        self.__clave_github = clave_github\n",
    "    \n",
    "    def sube_meme(self):\n",
    "        self.__puntaje += 5\n",
    "    \n",
    "    def hace_tarea_dia_anterior(self):\n",
    "        self.__puntaje -= 10\n",
    "\n",
    "    def ingresar_a_github(self):\n",
    "        usuario = input(\"ingrese usuario: \")\n",
    "        clave = input(\"ingrese clave: \")\n",
    "        if clave == self._clave_github and usuario == self.usuario_github:\n",
    "            print(\"Ingresaste correctamente a github!\")\n",
    "        else:\n",
    "            print(\"Algún input no es correcto:(\")\n",
    "            \n",
    "    def __ingresar_canal_secreto(self):\n",
    "        print(\"veo anime sin que me digan que soy rata\")"
   ]
  },
  {
   "cell_type": "markdown",
   "id": "3cf12b47",
   "metadata": {
    "id": "3cf12b47",
    "slideshow": {
     "slide_type": "slide"
    }
   },
   "source": [
    "En este ejemplo se aumenta o disminuye el puntaje del alumno según la acción que realice, no obstante, no nos estamos asegurando que el puntaje se mantenga en el rango de 0 a 100.\n",
    "\n",
    "Es por ello que utilizaremos properties para así definir los rangos del puntaje, además, queremos mediante un método poder eliminar el atributo puntaje.\n",
    "\n",
    "**Observación**: Esto también se puede hacer sin properties accediendo directamente al atributo pero no estaríamos cumpliendo con el principio de encapsulamiento."
   ]
  },
  {
   "cell_type": "code",
   "execution_count": null,
   "id": "928abaaf",
   "metadata": {
    "id": "928abaaf",
    "slideshow": {
     "slide_type": "slide"
    }
   },
   "outputs": [],
   "source": [
    "class AlumnoIIC2233():\n",
    "    def __init__(self, nombre, puntaje, usuario_github, clave_github):\n",
    "        self.nombre = nombre\n",
    "        self.max_pte = 100\n",
    "        self.min_pte = 0\n",
    "        self.__puntaje = puntaje\n",
    "        self.usuario_github = usuario_github\n",
    "        self.__clave_github = clave_github\n",
    "    \n",
    "    @property  #Getter (Para obtener el atributo)\n",
    "    def puntaje(self): \n",
    "        return self.__puntaje\n",
    "    \n",
    "    @puntaje.setter     #Setter (Para establecer el valor del atributo)\n",
    "    def puntaje(self, valor):\n",
    "        if valor < 0:\n",
    "            self.__puntaje = 0\n",
    "        elif valor > 100:\n",
    "            self.__puntaje = 100\n",
    "        else:\n",
    "            self.__puntaje = valor\n",
    "    \n",
    "    @puntaje.deleter    #Deleter (Para eliminar un atributo)\n",
    "    def puntaje(self):\n",
    "        print(\"Borrando puntaje...\")\n",
    "        del self.__puntaje\n",
    "    \n",
    "    def sube_meme(self):\n",
    "        self.puntaje += 20\n",
    "    \n",
    "    def hace_tarea_dia_anterior(self):\n",
    "        self.puntaje -= 10\n",
    "\n",
    "    def ingresar_a_github(self):\n",
    "        usuario = input(\"ingrese usuario: \")\n",
    "        clave = input(\"ingrese clave: \")\n",
    "        if clave == self._clave_github and usuario == self.usuario_github:\n",
    "            print(\"Ingresaste correctamente a github!\")\n",
    "        else:\n",
    "            print(\"Algún input no es correcto:(\")\n",
    "            \n",
    "    def __ingresar_canal_secreto(self):\n",
    "        print(\"veo anime sin que me digan que soy una rata\")"
   ]
  },
  {
   "cell_type": "code",
   "execution_count": null,
   "id": "e6e76252",
   "metadata": {
    "colab": {
     "base_uri": "https://localhost:8080/"
    },
    "id": "e6e76252",
    "outputId": "069fb02f-2e3e-4334-a87f-6a561ac5d52b",
    "slideshow": {
     "slide_type": "slide"
    }
   },
   "outputs": [
    {
     "name": "stdout",
     "output_type": "stream",
     "text": [
      "20\n"
     ]
    }
   ],
   "source": [
    "alumno_1 = AlumnoIIC2233(\"joaquin\", 20, \"joca122\", \"rata123\")\n",
    "\n",
    "#Accedemos al puntaje (Getter)\n",
    "print(alumno_1.puntaje)"
   ]
  },
  {
   "cell_type": "code",
   "execution_count": null,
   "id": "_NNGmrX-YoNW",
   "metadata": {
    "colab": {
     "base_uri": "https://localhost:8080/"
    },
    "id": "_NNGmrX-YoNW",
    "outputId": "5df9185b-d3ee-4db4-d9c5-bc8b00867e16",
    "slideshow": {
     "slide_type": "slide"
    }
   },
   "outputs": [
    {
     "name": "stdout",
     "output_type": "stream",
     "text": [
      "0\n",
      "100\n"
     ]
    }
   ],
   "source": [
    "#Probamos que el puntaje no baje de 0 (Setter)\n",
    "for _ in range(10):\n",
    "    alumno_1.hace_tarea_dia_anterior()\n",
    "print(alumno_1.puntaje)\n",
    "\n",
    "#Probamos que el puntaje no suba de 100 (Setter)\n",
    "for _ in range(10):\n",
    "    alumno_1.sube_meme()\n",
    "print(alumno_1.puntaje)"
   ]
  },
  {
   "cell_type": "code",
   "execution_count": null,
   "id": "Jh9iHPvdYqfz",
   "metadata": {
    "colab": {
     "base_uri": "https://localhost:8080/",
     "height": 347
    },
    "id": "Jh9iHPvdYqfz",
    "outputId": "8bd0a40f-6da1-4eb0-b038-23a9c6aca072",
    "slideshow": {
     "slide_type": "slide"
    }
   },
   "outputs": [
    {
     "name": "stdout",
     "output_type": "stream",
     "text": [
      "Borrando puntaje...\n"
     ]
    },
    {
     "ename": "AttributeError",
     "evalue": "ignored",
     "output_type": "error",
     "traceback": [
      "\u001b[0;31m---------------------------------------------------------------------------\u001b[0m",
      "\u001b[0;31mAttributeError\u001b[0m                            Traceback (most recent call last)",
      "\u001b[0;32m<ipython-input-19-bfb3018bf8b6>\u001b[0m in \u001b[0;36m<module>\u001b[0;34m\u001b[0m\n\u001b[1;32m      1\u001b[0m \u001b[0;31m#Eliminamos el puntaje (Deleter)\u001b[0m\u001b[0;34m\u001b[0m\u001b[0;34m\u001b[0m\u001b[0;34m\u001b[0m\u001b[0m\n\u001b[1;32m      2\u001b[0m \u001b[0;32mdel\u001b[0m \u001b[0malumno_1\u001b[0m\u001b[0;34m.\u001b[0m\u001b[0mpuntaje\u001b[0m\u001b[0;34m\u001b[0m\u001b[0;34m\u001b[0m\u001b[0m\n\u001b[0;32m----> 3\u001b[0;31m \u001b[0mprint\u001b[0m\u001b[0;34m(\u001b[0m\u001b[0malumno_1\u001b[0m\u001b[0;34m.\u001b[0m\u001b[0mpuntaje\u001b[0m\u001b[0;34m)\u001b[0m\u001b[0;34m\u001b[0m\u001b[0;34m\u001b[0m\u001b[0m\n\u001b[0m",
      "\u001b[0;32m<ipython-input-16-5af0b0d986d4>\u001b[0m in \u001b[0;36mpuntaje\u001b[0;34m(self)\u001b[0m\n\u001b[1;32m     10\u001b[0m     \u001b[0;34m@\u001b[0m\u001b[0mproperty\u001b[0m  \u001b[0;31m#Getter (Para obtener el atributo)\u001b[0m\u001b[0;34m\u001b[0m\u001b[0;34m\u001b[0m\u001b[0m\n\u001b[1;32m     11\u001b[0m     \u001b[0;32mdef\u001b[0m \u001b[0mpuntaje\u001b[0m\u001b[0;34m(\u001b[0m\u001b[0mself\u001b[0m\u001b[0;34m)\u001b[0m\u001b[0;34m:\u001b[0m\u001b[0;34m\u001b[0m\u001b[0;34m\u001b[0m\u001b[0m\n\u001b[0;32m---> 12\u001b[0;31m         \u001b[0;32mreturn\u001b[0m \u001b[0mself\u001b[0m\u001b[0;34m.\u001b[0m\u001b[0m__puntaje\u001b[0m\u001b[0;34m\u001b[0m\u001b[0;34m\u001b[0m\u001b[0m\n\u001b[0m\u001b[1;32m     13\u001b[0m \u001b[0;34m\u001b[0m\u001b[0m\n\u001b[1;32m     14\u001b[0m     \u001b[0;34m@\u001b[0m\u001b[0mpuntaje\u001b[0m\u001b[0;34m.\u001b[0m\u001b[0msetter\u001b[0m     \u001b[0;31m#Setter (Para establecer el valor del atributo)\u001b[0m\u001b[0;34m\u001b[0m\u001b[0;34m\u001b[0m\u001b[0m\n",
      "\u001b[0;31mAttributeError\u001b[0m: 'AlumnoIIC2233' object has no attribute '_AlumnoIIC2233__puntaje'"
     ]
    }
   ],
   "source": [
    "#Eliminamos el puntaje (Deleter)\n",
    "del alumno_1.puntaje\n",
    "print(alumno_1.puntaje)"
   ]
  },
  {
   "cell_type": "markdown",
   "id": "21aff892",
   "metadata": {
    "id": "21aff892",
    "slideshow": {
     "slide_type": "slide"
    }
   },
   "source": [
    "## Herencia 👩‍👦\n",
    "\n",
    "La herencia (inheritance) es una de las características más importantes de OOP, y corresponde a una relación de especialización y generalización entre clases. En esta relación, una clase hereda atributos y métodos de otra. Decimos entonces que la que hereda es una subclase, y la otra es una superclase. La subclase posee todos los atributos y métodos de la superclase, pero además tiene sus propios métodos y atributos específicos. El concepto de herencia nos permite aprovechar (reutilizar) código de las clases de las cuales se hereda."
   ]
  },
  {
   "cell_type": "markdown",
   "id": "350b71a9",
   "metadata": {
    "id": "350b71a9",
    "slideshow": {
     "slide_type": "slide"
    }
   },
   "source": [
    "Debemos modelar la siguiente situación:\n",
    "\n",
    "![](img/OOP.png)\n"
   ]
  },
  {
   "cell_type": "code",
   "execution_count": null,
   "id": "dd17af49",
   "metadata": {
    "id": "dd17af49",
    "slideshow": {
     "slide_type": "slide"
    }
   },
   "outputs": [],
   "source": [
    "class Humano:\n",
    "    \n",
    "    def __init__(self, nombre, edad, peso): \n",
    "        self.nombre = nombre                                    \n",
    "        self.edad = edad\n",
    "        self.peso = peso\n",
    "        self.vivo = True\n",
    "\n",
    "    def ir_al_baño(self):\n",
    "        self.peso -= 2\n",
    "        print(f\"{self.nombre} hizo del 2 y ahora pesa {self.peso} kg\")\n",
    "\n",
    "    def cumpleaños(self):\n",
    "        self.edad += 1\n",
    "        print(f\"Es el cumpleaños de {self.nombre} y cumple {self.edad} años\")"
   ]
  },
  {
   "cell_type": "markdown",
   "id": "nFoyWMU7aUEb",
   "metadata": {
    "id": "nFoyWMU7aUEb",
    "slideshow": {
     "slide_type": "slide"
    }
   },
   "source": [
    "Es importante que cuando una subclase es instanciada se debe llamar al inicializador de la superclase y pasarle **el mismo numero de argumentos** que recibe este `__init__`."
   ]
  },
  {
   "cell_type": "code",
   "execution_count": null,
   "id": "1d7fd404",
   "metadata": {
    "id": "1d7fd404",
    "slideshow": {
     "slide_type": "slide"
    }
   },
   "outputs": [],
   "source": [
    "class Estudiante(Humano):\n",
    "    def __init__(self, nombre, edad, peso, nota, generacion):\n",
    "        Humano.__init__(self, nombre, edad, peso)\n",
    "        self.nota = nota\n",
    "        self.generacion = generacion\n",
    "\n",
    "    def agregar_decima_a_nota(self, decimas):\n",
    "        self.nota += decimas / 10\n",
    "        print(f\"Nota queda en {self.nota}\")"
   ]
  },
  {
   "cell_type": "code",
   "execution_count": null,
   "id": "86020af8",
   "metadata": {
    "colab": {
     "base_uri": "https://localhost:8080/"
    },
    "id": "86020af8",
    "outputId": "a216f4d3-9025-40d7-a221-85a62eda0d49",
    "slideshow": {
     "slide_type": "slide"
    }
   },
   "outputs": [
    {
     "name": "stdout",
     "output_type": "stream",
     "text": [
      "Pepe hizo del 2 y ahora pesa 78 kg\n",
      "Es el cumpleaños de Pepe y cumple 24 años\n",
      "Nota queda en 6.0\n"
     ]
    }
   ],
   "source": [
    "estudiante_1  = Estudiante(\"Pepe\", 23, 80, 5.5, 2020)\n",
    "estudiante_1.ir_al_baño()\n",
    "estudiante_1.cumpleaños()\n",
    "estudiante_1.agregar_decima_a_nota(5)"
   ]
  },
  {
   "cell_type": "markdown",
   "id": "65762fd8",
   "metadata": {
    "id": "65762fd8",
    "slideshow": {
     "slide_type": "slide"
    }
   },
   "source": [
    "Se recomienda **(MUCHÍSIMO)** siempre preferir el uso de `super()`, por sobre el de NombreClase ya que en la próxima ayudantía se verá un problema (el  del Diamante) que genera complicaciones si se utiliza `NombreSuperClase.__init__()`"
   ]
  },
  {
   "cell_type": "code",
   "execution_count": null,
   "id": "b6661be4",
   "metadata": {
    "id": "b6661be4",
    "slideshow": {
     "slide_type": "slide"
    }
   },
   "outputs": [],
   "source": [
    "class Estudiante(Humano):\n",
    "    def __init__(self, nombre, edad, peso, nota, generacion):\n",
    "        super().__init__(nombre, edad, peso)\n",
    "        self.nota = nota\n",
    "        self.generacion = generacion\n",
    "\n",
    "    def agregar_decima_a_nota(self, decimas):\n",
    "        self.nota += decimas / 10\n",
    "        print(f\"Nota queda en {self.nota}\")   "
   ]
  },
  {
   "cell_type": "code",
   "execution_count": null,
   "id": "0487d085",
   "metadata": {
    "colab": {
     "base_uri": "https://localhost:8080/"
    },
    "id": "0487d085",
    "outputId": "ad21e35f-206e-48da-c6fe-a90a6b26d7fa",
    "slideshow": {
     "slide_type": "slide"
    }
   },
   "outputs": [
    {
     "name": "stdout",
     "output_type": "stream",
     "text": [
      "Juan hizo del 2 y ahora pesa 73 kg\n",
      "Es el cumpleaños de Juan y cumple 22 años\n",
      "Nota queda en 5.4\n"
     ]
    }
   ],
   "source": [
    "estudiante_1  = Estudiante(\"Juan\", 21, 75, 5.2, 2019)\n",
    "estudiante_1.ir_al_baño()\n",
    "estudiante_1.cumpleaños()\n",
    "estudiante_1.agregar_decima_a_nota(2)"
   ]
  },
  {
   "cell_type": "markdown",
   "id": "20feb977",
   "metadata": {
    "id": "20feb977",
    "slideshow": {
     "slide_type": "slide"
    }
   },
   "source": [
    "# Polimorfismo 🌀\n",
    "\n",
    "El **polimorfismo** se refiere a \"la propiedad por la que es posible enviar mensajes sintácticamente iguales a objetos de tipos distintos\" ([Wikipedia](https://es.wikipedia.org/wiki/Polimorfismo_(inform%C3%A1tica), 2017)). Básicamente se trata de utilizar objetos de distinto tipo con la misma *interfaz*.\n",
    "\n",
    "Un ejemplo de esto es la funcion `print()`el cual puede recibir como argumento cualquier objeto y esta le da la instruccion de imprimirse en pantalla."
   ]
  },
  {
   "cell_type": "code",
   "execution_count": null,
   "id": "vKvAHFJYbv2e",
   "metadata": {
    "colab": {
     "base_uri": "https://localhost:8080/"
    },
    "id": "vKvAHFJYbv2e",
    "outputId": "5574856b-7104-43b6-ed45-e45e19bc8597",
    "slideshow": {
     "slide_type": "slide"
    }
   },
   "outputs": [
    {
     "name": "stdout",
     "output_type": "stream",
     "text": [
      "string de caracteres\n",
      "['lista', 'de', 'caracteres']\n",
      "('tupla', 'de', 'caracteres')\n"
     ]
    }
   ],
   "source": [
    "cadena = \"string de caracteres\"\n",
    "lista = [\"lista\", \"de\", \"caracteres\"]\n",
    "tupla = (\"tupla\", \"de\", \"caracteres\")\n",
    "\n",
    "print(cadena)\n",
    "print(lista)\n",
    "print(tupla)\n"
   ]
  },
  {
   "cell_type": "markdown",
   "id": "eAp5JupBbt9-",
   "metadata": {
    "id": "eAp5JupBbt9-",
    "slideshow": {
     "slide_type": "slide"
    }
   },
   "source": [
    "Dos mecanismo para proveer polimorfismo son _overriding_ y _overloading_.\n",
    "\n",
    "- ***Overriding***: ocurre cuando se implementa un método en una subclase que sobreescribe la implementación del mismo método en la super clase\n",
    "   \n",
    "- ***Overloading***: es la capacidad de definir un método con el mismo nombre pero con distinto número y tipo de argumentos. Es la capacidad de una función de ejecutar distintas acciones dependiendo del tipo y número de argumentos que recibe. "
   ]
  },
  {
   "cell_type": "markdown",
   "id": "d3208549",
   "metadata": {
    "id": "d3208549",
    "slideshow": {
     "slide_type": "slide"
    }
   },
   "source": [
    "**Overriding**"
   ]
  },
  {
   "cell_type": "markdown",
   "id": "10dc3d55",
   "metadata": {
    "id": "10dc3d55",
    "slideshow": {
     "slide_type": "slide"
    }
   },
   "source": [
    "Continuando con el ejemplo de la clase `Humano` y `Estudiante` hacemos que la subclase haga overriding del método `cumpleaños()` y haga que este método le sume 2 años, ya que sabemos que la U nos tiene envejeciendo más de lo normal 👨‍🦳"
   ]
  },
  {
   "cell_type": "code",
   "execution_count": null,
   "id": "e86adc1e",
   "metadata": {
    "id": "e86adc1e",
    "slideshow": {
     "slide_type": "slide"
    }
   },
   "outputs": [],
   "source": [
    "class Estudiante(Humano):\n",
    "    def __init__(self, nombre, edad, peso, nota, generacion):\n",
    "        super().__init__(nombre, edad, peso)\n",
    "        self.nota = nota\n",
    "        self.generacion = generacion\n",
    "        \n",
    "    def cumpleaños(self):\n",
    "        self.edad += 2\n",
    "        print(f\"Es el cumpleaños del estudiante {self.nombre} y cumple {self.edad} años\")\n",
    "\n",
    "    def agregar_decima_a_nota(self, decimas):\n",
    "        self.nota += decimas / 10\n",
    "        print(f\"Nota queda en {self.nota}\")   "
   ]
  },
  {
   "cell_type": "code",
   "execution_count": null,
   "id": "5fc8c174",
   "metadata": {
    "id": "5fc8c174",
    "outputId": "088e2e7b-dc3e-4169-f869-7ff815c42976",
    "slideshow": {
     "slide_type": "slide"
    }
   },
   "outputs": [
    {
     "name": "stdout",
     "output_type": "stream",
     "text": [
      "Juan hizo del 2 y ahora pesa 73 kg\n",
      "Es el cumpleaños del estudiante Juan y cumple 23 años\n",
      "Nota queda en 5.4\n"
     ]
    }
   ],
   "source": [
    "estudiante_1  = Estudiante(\"Juan\", 21, 75, 5.2, 2019)\n",
    "estudiante_1.ir_al_baño()                                      #Método de la clase padre\n",
    "estudiante_1.cumpleaños()                                      #Método de la clase padre con overriding\n",
    "estudiante_1.agregar_decima_a_nota(2)                          #Método de la clase hijo"
   ]
  },
  {
   "cell_type": "markdown",
   "id": "49618ec0",
   "metadata": {
    "id": "49618ec0",
    "slideshow": {
     "slide_type": "slide"
    }
   },
   "source": [
    "**Overloading**"
   ]
  },
  {
   "cell_type": "markdown",
   "id": "It5UflRXdiOA",
   "metadata": {
    "id": "It5UflRXdiOA",
    "slideshow": {
     "slide_type": "slide"
    }
   },
   "source": [
    "En Python las funciones o operadores que vienen por defecto (built ins) soportan overloading. Como por ejemplo el ya mencionado `print()`"
   ]
  },
  {
   "cell_type": "markdown",
   "id": "1495b799",
   "metadata": {
    "id": "1495b799",
    "slideshow": {
     "slide_type": "slide"
    }
   },
   "source": [
    "Otro ejemplo es el operador `+` que dependiendo de la clase con la que estemos trabajando puede sumar dos números, concatenar dos strings, mezclar dos listas, etc. Esto es un ejemplo de overloading, pues el mismo operador funciona de distinta manera de acuerdo al tipo de los argumentos que recibe."
   ]
  },
  {
   "cell_type": "code",
   "execution_count": null,
   "id": "a6341059",
   "metadata": {
    "id": "a6341059",
    "outputId": "6fb54142-f48e-4223-99ba-9b1c2cebae64",
    "slideshow": {
     "slide_type": "slide"
    }
   },
   "outputs": [
    {
     "name": "stdout",
     "output_type": "stream",
     "text": [
      "['pepe', 'juan', 5, 6, 7, 8]\n",
      "Hola Mundo\n",
      "7\n"
     ]
    }
   ],
   "source": [
    "a = [\"pepe\", \"juan\"]\n",
    "b = [5, 6, 7, 8]\n",
    "print(a + b)\n",
    "c = \"Hola\"\n",
    "d = \" Mundo\"\n",
    "print(c + d)\n",
    "d = 2 + 5\n",
    "print(d)"
   ]
  },
  {
   "cell_type": "markdown",
   "id": "1byJMJwmebFx",
   "metadata": {
    "id": "1byJMJwmebFx",
    "slideshow": {
     "slide_type": "slide"
    }
   },
   "source": [
    "Sin embargo Python no soporta _function overloading_, es decir no se puede definir la función más de una vez con distintos tipos y números de argumentos y esperar que ambas definiciones sean consideradas por el programa (como los ejemplos anteriores). Sin embargo, se puede \"simular\" usando algunos parámetros con valores por defecto (`kwargs`) o número de argumentos variables."
   ]
  },
  {
   "cell_type": "code",
   "execution_count": null,
   "id": "W04iZ01Ke05l",
   "metadata": {
    "colab": {
     "base_uri": "https://localhost:8080/"
    },
    "id": "W04iZ01Ke05l",
    "outputId": "6bc40244-5b47-4519-ffbe-db0e9c818593",
    "slideshow": {
     "slide_type": "slide"
    }
   },
   "outputs": [
    {
     "name": "stdout",
     "output_type": "stream",
     "text": [
      "6\n",
      "24\n"
     ]
    }
   ],
   "source": [
    "def multiplicador(a, b, c=1):\n",
    "  return a * b * c\n",
    "\n",
    "print(multiplicador(2, 3))\n",
    "print(multiplicador(2, 3, 4))\n"
   ]
  },
  {
   "cell_type": "markdown",
   "id": "ac536809",
   "metadata": {
    "id": "ac536809",
    "slideshow": {
     "slide_type": "slide"
    }
   },
   "source": [
    "## `__repr__` vs `__str__`"
   ]
  },
  {
   "cell_type": "code",
   "execution_count": null,
   "id": "21e79f12",
   "metadata": {
    "id": "21e79f12",
    "outputId": "2d49991a-afcb-47b2-a070-c2b27f029aef",
    "slideshow": {
     "slide_type": "slide"
    }
   },
   "outputs": [
    {
     "name": "stdout",
     "output_type": "stream",
     "text": [
      "<__main__.Perro object at 0x000001E3A742E280>\n"
     ]
    }
   ],
   "source": [
    "class Perro: \n",
    "\n",
    "    def __init__(self, nombre, edad): \n",
    "        self.nombre = nombre\n",
    "        self.edad = edad\n",
    "        \n",
    "perro = Perro(\"Firulais\", 4)\n",
    "print(perro)"
   ]
  },
  {
   "cell_type": "markdown",
   "id": "53bb0193",
   "metadata": {
    "id": "53bb0193",
    "slideshow": {
     "slide_type": "slide"
    }
   },
   "source": [
    "Si bien ambos devuelven una representación del objeto en forma de string, cada representación persigue un objetivo distinto. \n",
    "\n",
    "`__str__` busca devolver una representación legible (human-readable) del objeto cuyo proposito es ser impresa en pantalla para un usuario.\n",
    "\n",
    "`__repr__` tiene por objetivo ofrecer una representación completa y sin ambigüedades del objeto. Para el desarrollador."
   ]
  },
  {
   "cell_type": "code",
   "execution_count": null,
   "id": "d7668c0f",
   "metadata": {
    "id": "d7668c0f",
    "slideshow": {
     "slide_type": "slide"
    }
   },
   "outputs": [],
   "source": [
    "class Perro: \n",
    "\n",
    "    def __init__(self, nombre, edad): \n",
    "        self.nombre = nombre\n",
    "        self.edad = edad\n",
    "        \n",
    "    def __repr__(self):\n",
    "        return f\"Perro({self.nombre} - {self.edad})\"\n",
    "    \n",
    "    def __str__(self):\n",
    "        return f\"Perro con nombre {self.nombre} y edad {self.edad}\"\n",
    "    \n",
    "perro = Perro(\"Firulais\", 4)"
   ]
  },
  {
   "cell_type": "code",
   "execution_count": null,
   "id": "ef20917e",
   "metadata": {
    "id": "ef20917e",
    "outputId": "107ffaba-f497-4f12-e2aa-092bb2a0f07b",
    "slideshow": {
     "slide_type": "slide"
    }
   },
   "outputs": [
    {
     "name": "stdout",
     "output_type": "stream",
     "text": [
      "Perro con nombre Firulais y edad 4\n",
      "Perro(Firulais - 4)\n",
      "Perro con nombre Firulais y edad 4\n"
     ]
    }
   ],
   "source": [
    "print(perro)                #Método str tiene prioridad por sobre repr\n",
    "print(repr(perro))\n",
    "print(str(perro))"
   ]
  },
  {
   "cell_type": "markdown",
   "id": "ZXDSvGqUfcy1",
   "metadata": {
    "id": "ZXDSvGqUfcy1",
    "slideshow": {
     "slide_type": "slide"
    }
   },
   "source": [
    "Es importante mencionar que cuando tenemos el objeto dentro de una estructura de datos como una lista o un diccionario se llamara al metodo `repr()`"
   ]
  },
  {
   "cell_type": "code",
   "execution_count": null,
   "id": "WdI35EH2fvzC",
   "metadata": {
    "colab": {
     "base_uri": "https://localhost:8080/"
    },
    "id": "WdI35EH2fvzC",
    "outputId": "b2d8cb94-b2ea-4eed-f23d-c2c8c47bac4c",
    "slideshow": {
     "slide_type": "slide"
    }
   },
   "outputs": [
    {
     "name": "stdout",
     "output_type": "stream",
     "text": [
      "[<__main__.Gato object at 0x7f3dc8cc3990>]\n"
     ]
    }
   ],
   "source": [
    "class Gato:\n",
    "\n",
    "  def __init__(self, nombre):\n",
    "    self.nombre = nombre\n",
    "\n",
    "  def __str__(self):\n",
    "    return self.nombre\n",
    "\n",
    "lista = list()\n",
    "gato = Gato(\"Colores\")\n",
    "\n",
    "lista.append(gato)\n",
    "print(lista)\n",
    "\n",
    "\n"
   ]
  },
  {
   "cell_type": "code",
   "execution_count": null,
   "id": "iDyBrDRjgVhY",
   "metadata": {
    "colab": {
     "base_uri": "https://localhost:8080/"
    },
    "id": "iDyBrDRjgVhY",
    "outputId": "a6f964d1-e5c8-4246-bb36-b34c6f6f0fbf",
    "slideshow": {
     "slide_type": "slide"
    }
   },
   "outputs": [
    {
     "name": "stdout",
     "output_type": "stream",
     "text": [
      "[Gato: Colores]\n"
     ]
    }
   ],
   "source": [
    "class Gato:\n",
    "\n",
    "  def __init__(self, nombre):\n",
    "    self.nombre = nombre\n",
    "\n",
    "  def __str__(self):\n",
    "    return self.nombre\n",
    "\n",
    "  def __repr__(self):\n",
    "    return f\"Gato: {self.nombre}\"\n",
    "\n",
    "lista = list()\n",
    "gato = Gato(\"Colores\")\n",
    "\n",
    "lista.append(gato)\n",
    "print(lista)"
   ]
  },
  {
   "cell_type": "markdown",
   "id": "e47bfcb4",
   "metadata": {
    "id": "e47bfcb4"
   },
   "source": [
    "# Actividad Ayudantía OOP1\n",
    "\n",
    "OOP1: Herencia y Polimorfismo"
   ]
  },
  {
   "cell_type": "markdown",
   "id": "14d53e8d",
   "metadata": {
    "id": "14d53e8d"
   },
   "source": [
    "El próximo 32 de Agosto se realizará la GalaUC, la cual reunirá a alumnos de las facultades de Ingenieria y College para disfrutar de uno de los eventos nunca antes vistos, donde se bailará y tomará harto, sin embargo, como no queremos que los profesores sepan cuanto han tomado ocultaremos inteligentemente el nivel de alcohol. Por otra parte, el control de la gala y los estudiantes estarán bajo la responsabilidad del DCC, específicamente a cargo de los alumnos de Programación Avanzada. Por ello, para cumplir tu labor como buen alumno deberás modelar la siguiente situación:"
   ]
  },
  {
   "cell_type": "markdown",
   "id": "a1548ae0",
   "metadata": {
    "id": "a1548ae0"
   },
   "source": [
    "* EstudianteUC: Clase que al inicializarse recibe dos str correspondientes al `nombre` y a la `generacion`, y define un atributo oculto correspondiente al nivel de `alcohol`, este debe mantenerse en un rango de 0 a 100 y se debe tener su método para eliminar. Por otra parte tiene un método de `bailar()` que reducirá el nivel de alcohol en 30 mientras que el método `tomar()` lo aumentará en 40. Finalmente, tendrá su método `__str__` que retornará una descripción de la información del alumno, indicando su nombre y generación."
   ]
  },
  {
   "cell_type": "code",
   "execution_count": null,
   "id": "ad9ad8b6",
   "metadata": {
    "id": "ad9ad8b6"
   },
   "outputs": [],
   "source": [
    "class EstudianteUC:\n",
    "    \n",
    "    def __init__(self, nombre, generacion):\n",
    "        #Completar el constructor\n",
    "        pass\n",
    "\n",
    "    #Completar property\n",
    "        \n",
    "    def bailar(self):\n",
    "        pass\n",
    "        \n",
    "    def tomar(self):\n",
    "        pass\n",
    "        \n",
    "    def __str__(self):\n",
    "        pass"
   ]
  },
  {
   "cell_type": "markdown",
   "id": "c4b7b524",
   "metadata": {
    "id": "c4b7b524"
   },
   "source": [
    "* EstudianteIngenieriaUC: Clase que hereda de EstudianteUC por lo que recibe como str `nombre` y `generacion`, además recibe `major`, `minor` y define un atributo correspondiente a la carrera que estudia (\"Ingeniería\" en este caso). Por otra parte, la clase hace overriding al método `tomar()` de la clase padre aumentando solo en 30 el nivel de alcohol, debido a que los ingenieros viven tomando. "
   ]
  },
  {
   "cell_type": "code",
   "execution_count": null,
   "id": "ca845888",
   "metadata": {
    "id": "ca845888"
   },
   "outputs": [],
   "source": [
    "class EstudianteIngenieriaUC(EstudianteUC):\n",
    "    \n",
    "    def __init__(self, nombre, generacion, major, minor):\n",
    "        #Completar el constructor\n",
    "        pass\n",
    "        \n",
    "    def tomar(self):\n",
    "        #Reescribe este método\n",
    "        pass"
   ]
  },
  {
   "cell_type": "markdown",
   "id": "b9cbf088",
   "metadata": {
    "id": "b9cbf088"
   },
   "source": [
    "* EstudianteCollegeUC: Clase que hereda de EstudianteUC por lo que recibe como str `nombre` y `generacion`, además recibe `major`, `minor` y define un atributo correspondiente a la carrera que estudia (\"College\" en este caso). Por otra parte, la clase hace overriding al método `bailar()` de la clase padre, aumentando a 40 la baja del alcohol debido a que los de college viven vacilando temas ~~y Robando cupos~~."
   ]
  },
  {
   "cell_type": "code",
   "execution_count": null,
   "id": "c78bdf14",
   "metadata": {
    "id": "c78bdf14"
   },
   "outputs": [],
   "source": [
    "class EstudianteCollegeUC(EstudianteUC):\n",
    "    \n",
    "    def __init__(self, nombre, generacion, major, minor):\n",
    "        #Completar el constructor\n",
    "        pass\n",
    "        \n",
    "    def bailar(self):\n",
    "        #Reescribe este método\n",
    "        pass"
   ]
  },
  {
   "cell_type": "markdown",
   "id": "6780880c",
   "metadata": {
    "id": "6780880c"
   },
   "source": [
    "* GalaUC : Clase que al inicializarse recibe un entero que será el `aforo máximo` y define una lista vacía que representará los `alumnos` al interior de la Gala. Además, tendrá dos métodos, `llega_alumno()` el cual recibirá una instancia de tipo EstudianteUC y evaluará si puede ingresar a la Gala dado el aforo, y por otro lado, `conteo_alumnos()` el cual no recibirá argumentos y se encargará de hacer un conteo de los tipos de alumnos que se encuentran al interior de la Gala."
   ]
  },
  {
   "cell_type": "code",
   "execution_count": null,
   "id": "58762dd9",
   "metadata": {
    "id": "58762dd9"
   },
   "outputs": [],
   "source": [
    "class GalaUC:\n",
    "    \n",
    "    def __init__(self, aforo_maximo):\n",
    "        #Completar el constructor\n",
    "        pass\n",
    "        \n",
    "    def llega_alumno(self, alumno):\n",
    "        pass\n",
    "            \n",
    "    def conteo_alumnos(self):\n",
    "        pass"
   ]
  },
  {
   "cell_type": "markdown",
   "id": "8ce1951b",
   "metadata": {
    "id": "8ce1951b"
   },
   "source": [
    "# Implementación Final"
   ]
  },
  {
   "cell_type": "code",
   "execution_count": null,
   "id": "21574ee2",
   "metadata": {
    "id": "21574ee2"
   },
   "outputs": [],
   "source": [
    "from random import choice\n",
    "\n",
    "#Creamos instancia de gala con aforo de 10 personas\n",
    "gala = GalaUC(10)         \n",
    "\n",
    "#Creamos instancias de alumno\n",
    "alumno_1 = EstudianteIngenieriaUC(\"Pepe\", \"2020\", \"Computacion\", \"Industrial\")\n",
    "alumno_2 = EstudianteIngenieriaUC(\"Juan\", \"2021\", \"Industrial\", \"Robotica\")\n",
    "alumno_3 = EstudianteCollegeUC(\"Marta\", \"2021\", \"Economia\", \"Estadistica\")\n",
    "alumno_4 = EstudianteIngenieriaUC(\"Sofia\", \"2019\", \"Electrica\", \"Industrial\")\n",
    "alumno_5 = EstudianteCollegeUC(\"Clemente\", \"2018\", \"Ingenieria\", \"Fisica\")\n",
    "alumno_6 = EstudianteCollegeUC(\"Martin\", \"2017\", \"Geografia\", \"Forestal\")\n",
    "alumno_7 = EstudianteIngenieriaUC(\"Valentina\", \"2019\", \"Robotica\", \"Mecatronica\")\n",
    "alumno_8 = EstudianteCollegeUC(\"Roberto\", \"2020\", \"Matematicas\", \"Estadistica\")\n",
    "alumno_9 = EstudianteCollegeUC(\"Emilia\", \"2021\", \"Periodismo\", \"Politicas Publicas\")\n",
    "alumno_10 = EstudianteCollegeUC(\"Rodolfo\", \"2017\", \"Sociologia\", \"Trabajo Social\")\n",
    "alumno_11 = EstudianteCollegeUC(\"Felipe\", \"2020\", \"Derecho\", \"Ciencias politicas\")\n",
    "\n",
    "alumnos = [alumno_1, alumno_2, alumno_3, alumno_4, alumno_5, alumno_6,\\\n",
    "           alumno_7, alumno_8, alumno_9, alumno_10, alumno_11]\n",
    "\n",
    "#Ejecutamos los métodos de GalaUC\n",
    "for alumno in alumnos:\n",
    "    gala.llega_alumno(alumno)\n",
    "\n",
    "print(\"-\" * 45)\n",
    "    \n",
    "gala.conteo_alumnos()\n",
    "\n",
    "print(\"-\" * 45)\n",
    "\n",
    "\n",
    "#Ejecutamos los métodos de los estudiantes\n",
    "for _ in range(15):\n",
    "    accion = choice([\"tomar\", \"bailar\"])\n",
    "    alumno = choice(gala.alumnos[:2])\n",
    "    \n",
    "    if accion == \"tomar\":\n",
    "        alumno.tomar()\n",
    "        \n",
    "    else:\n",
    "        alumno.bailar()\n",
    "\n",
    "print(\"-\" * 45)\n",
    "    \n",
    "alumno = choice(gala.alumnos)\n",
    "print(alumno)\n",
    "\n",
    "print(\"-\" * 45)\n",
    "\n",
    "del alumno.alcohol\n",
    "    "
   ]
  }
 ],
 "metadata": {
  "celltoolbar": "Slideshow",
  "colab": {
   "collapsed_sections": [],
   "name": "Ayudantia_OOP1_2022-2 V4.ipynb",
   "provenance": []
  },
  "kernelspec": {
   "display_name": "Python 3 (ipykernel)",
   "language": "python",
   "name": "python3"
  },
  "language_info": {
   "codemirror_mode": {
    "name": "ipython",
    "version": 3
   },
   "file_extension": ".py",
   "mimetype": "text/x-python",
   "name": "python",
   "nbconvert_exporter": "python",
   "pygments_lexer": "ipython3",
   "version": "3.8.7"
  }
 },
 "nbformat": 4,
 "nbformat_minor": 5
}
