{
 "cells": [
  {
   "cell_type": "markdown",
   "id": "395b64e2",
   "metadata": {},
   "source": [
    "# Ayudantía 03: Excepciones\n",
    "\n",
    "## Autores: [@benitopalaciosm](https://github.com/benitopalaciosm), [@blanca-romero](https://github.com/blanca-romero) & [@ignaciovial01](https://github.com/ignaciovial01)"
   ]
  },
  {
   "cell_type": "markdown",
   "id": "e952bba5",
   "metadata": {
    "slideshow": {
     "slide_type": "slide"
    }
   },
   "source": [
    "## ¿Qué son las excepciones?\n",
    "\n",
    "\n",
    "Las excepciones son situaciones anómalas o inesperadas que pueden ocurrir en un proceso de cómputo. Estos eventos surgen cuando ocurren condiciones que alteran el flujo normal o esperado de un programa, o alguna acción no pudo ser ejecutada tal como se esperaba.\n",
    "\n",
    "Para controlas las excepciones, Python utiliza un objeto llamado **Exception**. Así, cuando ocurre un error en el programa, Python crea (levanta) una excepción, la que después podemos manejar a través de un bloque **try/except**.\n",
    "\n",
    "### ¿Qué pasa si no se maneja la excepción?\n",
    "\n",
    "La ejecución del programa se detiene y se muestra el error."
   ]
  },
  {
   "cell_type": "code",
   "execution_count": null,
   "id": "1713e0d5",
   "metadata": {
    "slideshow": {
     "slide_type": "fragment"
    }
   },
   "outputs": [],
   "source": [
    "edad = input(\"Ingresa tu edad: \")\n",
    "if int(edad) >= 18:\n",
    "    print(\"Felicitaciones ya eres adulto\")"
   ]
  },
  {
   "cell_type": "markdown",
   "id": "ba7ae1e1",
   "metadata": {
    "slideshow": {
     "slide_type": "slide"
    }
   },
   "source": [
    "## Tipos de errores\n",
    "\n",
    "### `SyntaxError`\n",
    "\n",
    "Son los errores más comunes a la hora de aprender Python. Son los que podemos apreciar repasando el código, por ejemplo al dejar un paréntesis abierto o al escribir mal un comando:"
   ]
  },
  {
   "cell_type": "code",
   "execution_count": null,
   "id": "535f7010",
   "metadata": {
    "slideshow": {
     "slide_type": "fragment"
    }
   },
   "outputs": [],
   "source": [
    "fro i in range(10):\n",
    "    print(\"contando\", i)"
   ]
  },
  {
   "cell_type": "markdown",
   "id": "f53c1bf9",
   "metadata": {
    "slideshow": {
     "slide_type": "subslide"
    }
   },
   "source": [
    "### `NameError`\n",
    "\n",
    "Se genera cuando no se encuentra un nombre local o global. Esto se aplica solo a nombres no calificados. El valor asociado es un mensaje de error que incluye el nombre que no se pudo encontrar."
   ]
  },
  {
   "cell_type": "code",
   "execution_count": null,
   "id": "ad745063",
   "metadata": {
    "slideshow": {
     "slide_type": "fragment"
    }
   },
   "outputs": [],
   "source": [
    "uno = 1\n",
    "suma = 2 + dos\n",
    "print(suma)"
   ]
  },
  {
   "cell_type": "markdown",
   "id": "1fe98400",
   "metadata": {
    "slideshow": {
     "slide_type": "subslide"
    }
   },
   "source": [
    "### `ZeroDivisionError`\n",
    "\n",
    "Se genera cuando el segundo argumento de una operación de división o módulo es cero. El valor asociado es una cadena que indica el tipo de operandos y la operación."
   ]
  },
  {
   "cell_type": "code",
   "execution_count": null,
   "id": "84d14d8c",
   "metadata": {
    "slideshow": {
     "slide_type": "fragment"
    }
   },
   "outputs": [],
   "source": [
    "def modulo(a, b):\n",
    "  return a%b\n",
    "\n",
    "print(modulo(10, 2))\n",
    "print(modulo(10, 0))"
   ]
  },
  {
   "cell_type": "markdown",
   "id": "1a0f28a8",
   "metadata": {
    "slideshow": {
     "slide_type": "subslide"
    }
   },
   "source": [
    "### `IndexError`\n",
    "\n",
    "Se genera cuando un subíndice de secuencia está fuera del rango. (Los índices de la rebanada son truncados silenciosamente para caer en el intervalo permitido; si un índice no es un entero, se genera TypeError.)"
   ]
  },
  {
   "cell_type": "code",
   "execution_count": null,
   "id": "9b8fbf54",
   "metadata": {
    "slideshow": {
     "slide_type": "fragment"
    }
   },
   "outputs": [],
   "source": [
    "lista = [1,2,3,4,5]\n",
    "print(f\"Valor de lista en posición (-6) es\", lista[-6])"
   ]
  },
  {
   "cell_type": "markdown",
   "id": "ccece1eb",
   "metadata": {
    "slideshow": {
     "slide_type": "subslide"
    }
   },
   "source": [
    "### `KeyError`\n",
    "\n",
    "Se genera cuando no se encuentra una clave de asignación (diccionario) en el conjunto de claves existentes (mapa)."
   ]
  },
  {
   "cell_type": "code",
   "execution_count": null,
   "id": "6f2fb661",
   "metadata": {},
   "outputs": [],
   "source": []
  },
  {
   "cell_type": "code",
   "execution_count": null,
   "id": "d6afa92e",
   "metadata": {
    "slideshow": {
     "slide_type": "fragment"
    }
   },
   "outputs": [],
   "source": [
    "capitales = dict()\n",
    "capitales[\"Francia\"] = \"Paris\"\n",
    "capitales[\"España\"] = \"Madrid\"\n",
    "capitales[\"Chile\"] = \"Santiago\"\n",
    "\n",
    "print(\"La capital de argentina es\", capitales[\"argentina\"])"
   ]
  },
  {
   "cell_type": "markdown",
   "id": "9b5ea778",
   "metadata": {
    "slideshow": {
     "slide_type": "subslide"
    }
   },
   "source": [
    "### `AttributeError`\n",
    "\n",
    "Se genera cuando se produce un error en una referencia de atributo (ver Referencias de atributos) o la asignación falla. (Cuando un objeto no admite referencias de atributos o asignaciones de atributos en absoluto, se genera TypeError.)"
   ]
  },
  {
   "cell_type": "code",
   "execution_count": null,
   "id": "85e3fc87",
   "metadata": {
    "slideshow": {
     "slide_type": "fragment"
    }
   },
   "outputs": [],
   "source": [
    "## Ejemplo sacado de AY3 2021-2\n",
    "\n",
    "class Estudiante:\n",
    "  def __init__(self, nombre, notas):\n",
    "    self.nombre = nombre\n",
    "    self.notas = notas\n",
    "    self.promedio = 0\n",
    "  \n",
    "  def calcular_promedio(self):\n",
    "    self.promedio = sum(self.notas)/len(self.notas)\n",
    "\n",
    "juanito = Estudiante(\"Juanito\", [5, 6, 7, 1])\n",
    "juanito.calcular_promedio()\n",
    "print(juanito.promedio)"
   ]
  },
  {
   "cell_type": "code",
   "execution_count": null,
   "id": "3a671fa8",
   "metadata": {
    "slideshow": {
     "slide_type": "fragment"
    }
   },
   "outputs": [],
   "source": [
    "print(juanito.numero_estudiante)"
   ]
  },
  {
   "cell_type": "code",
   "execution_count": null,
   "id": "7a51a6f4",
   "metadata": {
    "slideshow": {
     "slide_type": "fragment"
    }
   },
   "outputs": [],
   "source": [
    "juanito.inscribir_curso()"
   ]
  },
  {
   "cell_type": "markdown",
   "id": "c73f06dd",
   "metadata": {
    "slideshow": {
     "slide_type": "subslide"
    }
   },
   "source": [
    "### `TypeError`\n",
    "\n",
    "Se genera cuando una operación o función se aplica a un objeto de tipo inapropiado. El valor asociado es una cadena que proporciona detalles sobre la falta de coincidencia de tipos.\n",
    "\n",
    "El código de usuario puede lanzar esta excepción para indicar que un intento de operación en un objeto no es compatible y no debe serlo. Si un objeto está destinado a soportar una operación dada pero aún no ha proporcionado una implementación, NotImplementedError es la excepción adecuada para lanzar."
   ]
  },
  {
   "cell_type": "code",
   "execution_count": null,
   "id": "774475fd",
   "metadata": {
    "slideshow": {
     "slide_type": "fragment"
    }
   },
   "outputs": [],
   "source": [
    "## Ejemplo sacado de AY3 2021-2\n",
    "\n",
    "def division(a, b):\n",
    "  return a/b\n",
    "\n",
    "print(TypeError.mro())\n",
    "\n",
    "print(division(5, 2))"
   ]
  },
  {
   "cell_type": "code",
   "execution_count": null,
   "id": "03809500",
   "metadata": {
    "slideshow": {
     "slide_type": "fragment"
    }
   },
   "outputs": [],
   "source": [
    "print(division(\"Hola\", \"Mundo\"))"
   ]
  },
  {
   "cell_type": "markdown",
   "id": "b6ba51b8",
   "metadata": {
    "slideshow": {
     "slide_type": "subslide"
    }
   },
   "source": [
    "### `ValueError`\n",
    "\n",
    "Se genera cuando una operación o función recibe un argumento que tiene el tipo correcto pero un valor inapropiado, y la situación no se describe con una excepción más precisa como IndexError."
   ]
  },
  {
   "cell_type": "markdown",
   "id": "5d500084",
   "metadata": {
    "slideshow": {
     "slide_type": "notes"
    }
   },
   "source": [
    "`TypeError` no hereda de `ValueError`!"
   ]
  },
  {
   "cell_type": "code",
   "execution_count": null,
   "id": "4e4bb619",
   "metadata": {
    "slideshow": {
     "slide_type": "fragment"
    }
   },
   "outputs": [],
   "source": [
    "## Ejemplo sacado de AY3 2021-2\n",
    "\n",
    "import math\n",
    "\n",
    "raiz_de_dos = math.sqrt(2)\n",
    "print(f\"la raíz de 2 es {raiz_de_dos}\")\n",
    "\n",
    "raiz_de_menos_dos = math.sqrt(-2)\n",
    "print(f\"la raíz de -2 es {raiz_de_menos_dos}\")"
   ]
  },
  {
   "cell_type": "markdown",
   "id": "24629aa4",
   "metadata": {
    "slideshow": {
     "slide_type": "fragment"
    }
   },
   "source": [
    "Otros ejemplos de tipos de errores pueden ser `EOFError`, `KeyBaordInterrupt` o `RecursionError`. Para ver una lista completa puedes visitar https://docs.python.org/es/3/library/exceptions.html. (La información fue sacada de este sitio)"
   ]
  },
  {
   "cell_type": "markdown",
   "id": "5048bfb1",
   "metadata": {
    "slideshow": {
     "slide_type": "slide"
    }
   },
   "source": [
    "# Levantando excepciones: `raise`\n",
    "\n",
    "Se puede generar una excepción en el momento que queramos creando una nueva instancia de la excepción, y utilizando la sentencia **`raise`**. La forma de hacerlo es la siguiente:"
   ]
  },
  {
   "cell_type": "code",
   "execution_count": null,
   "id": "c227dd92",
   "metadata": {
    "slideshow": {
     "slide_type": "fragment"
    }
   },
   "outputs": [],
   "source": [
    "raise NombreExcepcion('Mensaje de error')"
   ]
  },
  {
   "cell_type": "markdown",
   "id": "26d3a690",
   "metadata": {
    "slideshow": {
     "slide_type": "subslide"
    }
   },
   "source": [
    "A continuación se muestra un ejemplo:"
   ]
  },
  {
   "cell_type": "code",
   "execution_count": null,
   "id": "876f995b",
   "metadata": {
    "slideshow": {
     "slide_type": "fragment"
    }
   },
   "outputs": [],
   "source": [
    "def suma(x, y):\n",
    "    \n",
    "    # Si el input no es del tipo esperado\n",
    "    check = isinstance(x, int) and isinstance(y, int)\n",
    "    if not check:\n",
    "        raise TypeError('Ambos argumentos deben ser tipo int')\n",
    "\n",
    "    return x + y"
   ]
  },
  {
   "cell_type": "code",
   "execution_count": null,
   "id": "7a790e68",
   "metadata": {
    "slideshow": {
     "slide_type": "fragment"
    }
   },
   "outputs": [],
   "source": [
    "suma(\"hola\", 3)"
   ]
  },
  {
   "cell_type": "markdown",
   "id": "50cc01dd",
   "metadata": {
    "slideshow": {
     "slide_type": "slide"
    }
   },
   "source": [
    "# Manejo de Excepciones: \n",
    "Cada vez que se **levanta** una excepción, es posible **atraparla** mediante el uso de las sentencias `try` y `except`.\n",
    "\n",
    "**Funcionamiento:** si se levanta una excepción dentro del *scope* de `try`, entonces la excepción es **capturada**, y debe seguir una o más instrucciones `except`. Si no ocurre ningún problema, el programa sigue su flujo.\n"
   ]
  },
  {
   "cell_type": "code",
   "execution_count": null,
   "id": "6ba052fb",
   "metadata": {
    "slideshow": {
     "slide_type": "fragment"
    }
   },
   "outputs": [],
   "source": [
    "A continuación veremos como se levanta una excepción *(x = 0)*:"
   ]
  },
  {
   "cell_type": "code",
   "execution_count": null,
   "id": "c1c2c23b",
   "metadata": {
    "slideshow": {
     "slide_type": "subslide"
    }
   },
   "outputs": [],
   "source": [
    "try:\n",
    "    # Dentro de este bloque ejecutamos el código que PODRÍA\n",
    "    # arrojar una excepción\n",
    "    x = 0\n",
    "    print(f\"El número elegido es {x}\")\n",
    "    print(f\"Resultado operación: {1/x}\")\n",
    "    \n",
    "except (ZeroDivisionError) as error:\n",
    "    # Aquí manejamos la excepción que pueda ser lanzada en\n",
    "    # el bloque anterior. Si un error del tipo ZeroDivisonError\n",
    "    # ocurre, se ejecuta este bloque y el resto del programa \n",
    "    # continúa su ejecución normal. La excepción, como objeto,\n",
    "    # se puede acceder con la variable error.\n",
    "    print(f\"Error: {error} -> no se puede dividir por cero\")\n",
    "\n",
    "print(\"El programa continúa después del try/except\")"
   ]
  },
  {
   "cell_type": "markdown",
   "id": "d3d7f893",
   "metadata": {
    "slideshow": {
     "slide_type": "subslide"
    }
   },
   "source": [
    "También existen las sentencias complementarias **`else`** y **`finally`**:\n",
    "\n",
    "- `else`: instrucciones se ejecutarán **siempre y cuando no se haya lanzado ninguna excepción**.\n",
    "- `finally`: instrucciones se realizan **siempre, independientemente de si ocurrió una excepción o no**."
   ]
  },
  {
   "cell_type": "code",
   "execution_count": null,
   "id": "d2b8ae36",
   "metadata": {
    "slideshow": {
     "slide_type": "fragment"
    }
   },
   "outputs": [],
   "source": [
    "try:\n",
    "    # Dentro de este bloque ejecutamos el código que PODRÍA\n",
    "    # arrojar una excepción\n",
    "    x = 1\n",
    "    print(f\"El número elegido es {x}\")\n",
    "    print(f\"Resultado operación: {1/x}\")\n",
    "    \n",
    "except (ZeroDivisionError) as error:\n",
    "    # Aquí manejamos la excepción que pueda ser lanzada en\n",
    "    # el bloque anterior. Si un error del tipo ZeroDivisonError\n",
    "    # ocurre, se ejecuta este bloque y el resto del programa \n",
    "    # continúa su ejecución normal. La excepción, como objeto,\n",
    "    # se puede acceder con la variable error.\n",
    "    print(f\"Error: {error}, no se puede dividir por cero\")\n",
    "\n",
    "else:\n",
    "    # Como no hubo excepciones puede retornar normalmente el resultado\n",
    "    # En este caso, si se coloca un return después de la operación y\n",
    "    # esta es correcta, entonces nunca llegará a este punto.\n",
    "    print(\"¡Todo OK! La división se hizo correctamente\")\n",
    "        \n",
    "finally:\n",
    "    print(\"Recuerde SIEMPRE usar excepciones para manejar los errores de su programa\")\n",
    "\n",
    "print(\"El programa continúa después del try/except\")"
   ]
  },
  {
   "cell_type": "markdown",
   "id": "f97f06f5",
   "metadata": {
    "slideshow": {
     "slide_type": "subslide"
    }
   },
   "source": [
    "**RESUMEN:**"
   ]
  },
  {
   "cell_type": "code",
   "execution_count": null,
   "id": "3faf8667",
   "metadata": {
    "slideshow": {
     "slide_type": "fragment"
    }
   },
   "outputs": [],
   "source": [
    "try:\n",
    "    # Lineas de codigo\n",
    "except:\n",
    "    # Se ejecuta si se levanta una excepcion dentro de try\n",
    "else:\n",
    "    # Se ejecuta si no se levanta una excepcion dentro de try\n",
    "finally:\n",
    "    # Se ejecuta SIEMPRE"
   ]
  },
  {
   "cell_type": "markdown",
   "id": "537e0c4b",
   "metadata": {
    "slideshow": {
     "slide_type": "slide"
    }
   },
   "source": [
    "# Excepciones Personalizadas"
   ]
  },
  {
   "cell_type": "markdown",
   "id": "8cf5bb02",
   "metadata": {
    "slideshow": {
     "slide_type": "fragment"
    }
   },
   "source": [
    "En python, todas las excepciones se heredan `BaseException`, y a partir de ella existen tres tipos de excepciones. Todas aquellas excepciones que se generan por errores durante la ejecución de un código son subclases de **`Exception`**."
   ]
  },
  {
   "cell_type": "markdown",
   "id": "ea39cdb5",
   "metadata": {
    "slideshow": {
     "slide_type": "fragment"
    }
   },
   "source": [
    "#### ¡Heredando de `Exception` podemos crear excepciones personalizadas!"
   ]
  },
  {
   "cell_type": "code",
   "execution_count": null,
   "id": "5f68e639",
   "metadata": {
    "slideshow": {
     "slide_type": "subslide"
    }
   },
   "outputs": [],
   "source": [
    "class Excepcion1(Exception):\n",
    "    # Si no sobreescribimos nada, se hereda todo\n",
    "    # y obtenemos una excepción sin modificaciones\n",
    "    pass\n",
    "\n",
    "class Excepcion2(Exception):\n",
    "    def __init__(self, a, b):\n",
    "        #al sobreescribir __init__ podemos cambiar los parámetros\n",
    "        super().__init__(f\"Alguno de los valores ({a} o {b}) no es un número entero\")\n",
    "\n",
    "def concatenar_numeros(a, b):\n",
    "    if (not isinstance(a, int)) or (not isinstance(b, int)):\n",
    "        # si alguno de los valores NO es entero se levanta la Excepcion2\n",
    "        raise Excepcion2(a, b)\n",
    "    \n",
    "    if a < 0 or b < 0:\n",
    "        # si alguno de los valores es negativo se levanta la Excepcion1\n",
    "        raise Excepcion1(\"no pueden haber valores negativos!\")\n",
    "    \n",
    "    # se retorna los números concatenados\n",
    "    c = str(a) + str(b)\n",
    "    return int(c)\n"
   ]
  },
  {
   "cell_type": "code",
   "execution_count": null,
   "id": "6b8daca4",
   "metadata": {
    "slideshow": {
     "slide_type": "subslide"
    }
   },
   "outputs": [],
   "source": [
    "# Este ejempo lanza una Excepcion1\n",
    "try:\n",
    "    print(concatenar_numeros(-73, 4))\n",
    "\n",
    "except Excepcion1 as err:\n",
    "    # Este bloque opera para la Excepcion1\n",
    "    print(f\"Error: {err}\")\n",
    "\n",
    "except Excepcion2 as err:\n",
    "    # Este bloque opera para Excepcion2 cuando los datos no son enteros\n",
    "    print(f\"Error: {err}\")"
   ]
  },
  {
   "cell_type": "code",
   "execution_count": null,
   "id": "34b01839",
   "metadata": {
    "slideshow": {
     "slide_type": "subslide"
    }
   },
   "outputs": [],
   "source": [
    "# Este ejempo lanza una Excepcion2\n",
    "try:\n",
    "    print(concatenar_numeros(\"alo\", 4))\n",
    "\n",
    "except Excepcion1 as err:\n",
    "    # Este bloque opera para la Excepcion1\n",
    "    print(f\"Error: {err}\")\n",
    "\n",
    "except Excepcion2 as err:\n",
    "    # Este bloque opera para Excepcion2 cuando los datos no son enteros\n",
    "    print(f\"Error: {err}\")"
   ]
  },
  {
   "cell_type": "markdown",
   "id": "693ae5c6",
   "metadata": {
    "slideshow": {
     "slide_type": "subslide"
    }
   },
   "source": [
    "También podemos definir comportamientos tal que nos permitan **recuperar información** a partir del error"
   ]
  },
  {
   "cell_type": "code",
   "execution_count": null,
   "id": "1d65acec",
   "metadata": {
    "slideshow": {
     "slide_type": "fragment"
    }
   },
   "outputs": [],
   "source": [
    "class ErrorSalarioFueraDeRango(Exception):\n",
    "\n",
    "    def __init__(self, salario, minimo, maximo):\n",
    "        # inicializamos la superclase\n",
    "        super().__init__(f\"el salario ${salario} es inválido\")\n",
    "\n",
    "        self.salario = salario\n",
    "        self.minimo = minimo\n",
    "        self.maximo = maximo\n",
    "\n",
    "    def diferencia(self):\n",
    "        #retorna la diferencia entre el salario y el rango (minimo, maximo)\n",
    "        if self.salario < self.minimo:\n",
    "            dif = self.minimo - self.salario\n",
    "        \n",
    "        if self.salario > self.maximo:\n",
    "            dif = self.salario - self.maximo\n",
    "        return dif\n",
    "\n",
    "    def arriba_o_abajo(self):\n",
    "        # retorna \"abajo\" si el salario es menor que el mínimo \n",
    "        if self.salario < self.minimo:\n",
    "            return \"abajo\"\n",
    "        \n",
    "        # retorna \"arriba\" si el salario es mayor que el máximo\n",
    "        if self.salario > self.maximo:\n",
    "            return \"arriba\"\n",
    "\n",
    "\n",
    "def definir_salario(salario):\n",
    "\n",
    "    smin = 5000\n",
    "    smax = 15000\n",
    "\n",
    "    if salario < smin or salario > smax:\n",
    "        raise ErrorSalarioFueraDeRango(salario, smin, smax)\n",
    "    return \"salario definido correctamente!\"\n",
    "\n"
   ]
  },
  {
   "cell_type": "code",
   "execution_count": null,
   "id": "1170f3a2",
   "metadata": {
    "slideshow": {
     "slide_type": "subslide"
    }
   },
   "outputs": [],
   "source": [
    "#Este ejemplo lanza la excepción ErrorSalarioFueraDeRango\n",
    "try:\n",
    "    s = 23150\n",
    "    print(definir_salario(s))\n",
    "\n",
    "except ErrorSalarioFueraDeRango as err:\n",
    "    # Atrapamos el error y lo usamos para encontrar información acerca de éste: \n",
    "    # como la diferencia entre el salario ingresado y el rango permitido\n",
    "    # y obtener si está por \"arriba\" o \"abajo\" de éste\n",
    "    print(f\"Error: {err}. Está ${err.diferencia()} por {err.arriba_o_abajo()} del rango permitido.\")\n",
    "\n"
   ]
  },
  {
   "cell_type": "markdown",
   "id": "358ef7a3",
   "metadata": {
    "slideshow": {
     "slide_type": "subslide"
    }
   },
   "source": [
    "## ¡Ahora puedes crear tus propias excepciones personalizadas!"
   ]
  }
 ],
 "metadata": {
  "celltoolbar": "Slideshow",
  "kernelspec": {
   "display_name": "Python 3 (ipykernel)",
   "language": "python",
   "name": "python3"
  },
  "language_info": {
   "codemirror_mode": {
    "name": "ipython",
    "version": 3
   },
   "file_extension": ".py",
   "mimetype": "text/x-python",
   "name": "python",
   "nbconvert_exporter": "python",
   "pygments_lexer": "ipython3",
   "version": "3.10.6"
  }
 },
 "nbformat": 4,
 "nbformat_minor": 5
}
