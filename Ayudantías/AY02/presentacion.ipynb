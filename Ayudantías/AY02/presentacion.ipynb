{
 "cells": [
  {
   "cell_type": "markdown",
   "metadata": {
    "slideshow": {
     "slide_type": "slide"
    }
   },
   "source": [
    "# **Ayudantía 2: OOP-2** 🪅"
   ]
  },
  {
   "cell_type": "markdown",
   "metadata": {
    "slideshow": {
     "slide_type": "slide"
    }
   },
   "source": [
    "# Diagrama de clases\n",
    "* Es una herramienta muy útil que permite visualizar fácilmente las **clases** que componen un sistema, sus **atributos**, **métodos** y las **interacciones** que existen entre ellas.\n",
    "* Realizar un diagrama de clases antes de codificar los programas permite planificarlos de mejor manera, lo que se traduce en codear mas eficazmente. "
   ]
  },
  {
   "cell_type": "markdown",
   "metadata": {
    "slideshow": {
     "slide_type": "slide"
    }
   },
   "source": [
    "## Elementos de un diagrama de clases\n",
    "Un diagrama de clases se compone de **clases** y **relaciones**.\n"
   ]
  },
  {
   "cell_type": "markdown",
   "metadata": {
    "slideshow": {
     "slide_type": "slide"
    }
   },
   "source": [
    "### Clases\n",
    "* Estructuras básicas que encapsulan la información.\n",
    "* Se representan gráficamente con un rectángulo dividido en tres niveles:\n",
    "\n",
    "<img src=\"./img/estructura_diagrama_de_clases.png\" width=400></img>"
   ]
  },
  {
   "cell_type": "markdown",
   "metadata": {
    "slideshow": {
     "slide_type": "slide"
    }
   },
   "source": [
    "### Relaciones\n",
    "* Representa la interacción entre las clases dentro del sistema que se está modelando. \n",
    "* Las más comunes son: **composición**, **agregación** y **herencia**."
   ]
  },
  {
   "cell_type": "markdown",
   "metadata": {
    "slideshow": {
     "slide_type": "slide"
    }
   },
   "source": [
    "#### Composición\n",
    "* Los objetos de la clase que creamos se contruyen a partir de la inclusión de otros elementos.\n",
    "* La existencia de los objetos incluidos depende de la existencia del objeto que los incluye.\n",
    "* Se representa con una flecha que parte desde el objeto base y va hasta el objeto que componemos. La base de la flecha es un rombo relleno."
   ]
  },
  {
   "cell_type": "code",
   "execution_count": 1,
   "metadata": {
    "slideshow": {
     "slide_type": "slide"
    }
   },
   "outputs": [],
   "source": [
    "# Ejemplo Composisición\n",
    "\n",
    "class IngenieriaUc:\n",
    "    \n",
    "    def __init__(self):\n",
    "        self.departamentos = []\n",
    "        \n",
    "    def agregar_departamento(self, departamento):\n",
    "        self.departamentos.append(departamento)"
   ]
  },
  {
   "cell_type": "code",
   "execution_count": 2,
   "metadata": {
    "slideshow": {
     "slide_type": "slide"
    }
   },
   "outputs": [],
   "source": [
    "class CienciasDeLaComputacion:\n",
    "\n",
    "    def __init__(self):\n",
    "        self.version_python = 3.8\n",
    "        alumnos = 5000\n",
    "        \n",
    "    def __repr__(self):\n",
    "        return \"Ciencias De La Computacion\"\n",
    "        \n",
    "        \n",
    "class IngenieriaIndustrial:\n",
    "    \n",
    "    def __init__(self):\n",
    "        self.version_python = 3.10\n",
    "        alumnos = 3000\n",
    "        \n",
    "    def __repr__(self):\n",
    "        return \"Ingenieria Industrial\""
   ]
  },
  {
   "cell_type": "code",
   "execution_count": 3,
   "metadata": {
    "slideshow": {
     "slide_type": "slide"
    }
   },
   "outputs": [
    {
     "name": "stdout",
     "output_type": "stream",
     "text": [
      "[Ciencias De La Computacion, Ingenieria Industrial]\n"
     ]
    }
   ],
   "source": [
    "dcc = CienciasDeLaComputacion()\n",
    "operativa = IngenieriaIndustrial()\n",
    "\n",
    "escuela = IngenieriaUc()\n",
    "escuela.agregar_departamento(dcc)\n",
    "escuela.agregar_departamento(operativa)\n",
    "\n",
    "print(escuela.departamentos)"
   ]
  },
  {
   "cell_type": "markdown",
   "metadata": {
    "slideshow": {
     "slide_type": "slide"
    }
   },
   "source": [
    "En este ejemplo, los departamentos depende de la existencia de la Facultad de Ingenieria, si es que esta no existiera los departamentos tampoco existirían "
   ]
  },
  {
   "cell_type": "markdown",
   "metadata": {
    "slideshow": {
     "slide_type": "slide"
    }
   },
   "source": [
    "#### Agregación\n",
    "* También se construye la clase base usando otros objetos, pero en este caso, el tiempo de vida del objeto que agregamos es independiente del tiempo de vida del objeto que lo incluye.\n",
    "* Se representa con una flecha que parte desde el objeto base y va hasta el objeto que agregamos. La base de la flecha es un rombo sin rellenar."
   ]
  },
  {
   "cell_type": "code",
   "execution_count": 4,
   "metadata": {
    "slideshow": {
     "slide_type": "slide"
    }
   },
   "outputs": [],
   "source": [
    "class ProgramacionAvanzada:\n",
    "    \n",
    "    def __init__(self):\n",
    "        self.version_python = 3.8\n",
    "        self.ayudantes = []\n",
    "        \n",
    "    def agregar_ayudante(self, ayudante):\n",
    "        self.ayudantes.append(ayudante)\n",
    "\n",
    "        \n",
    "class SistemasDeInformacion:\n",
    "    \n",
    "    def __init__(self):\n",
    "        self.version_python = 3.8\n",
    "        self.ayudantes = []\n",
    "        \n",
    "    def agregar_ayudante(self, ayudante):\n",
    "        self.ayudantes.append(ayudante)"
   ]
  },
  {
   "cell_type": "code",
   "execution_count": 5,
   "metadata": {
    "slideshow": {
     "slide_type": "slide"
    }
   },
   "outputs": [],
   "source": [
    "class Ayudante:\n",
    "    \n",
    "    def __init__(self, nombre):\n",
    "        self.nombre = nombre\n",
    "        \n",
    "    def __repr__(self):\n",
    "        return self.nombre"
   ]
  },
  {
   "cell_type": "code",
   "execution_count": 6,
   "metadata": {
    "slideshow": {
     "slide_type": "slide"
    }
   },
   "outputs": [
    {
     "name": "stdout",
     "output_type": "stream",
     "text": [
      "Ayudantes de Sistemas de Informacion: [Catalina]\n",
      "Ayudantes de Programacion Avanzada:  [Patricio, Julio]\n"
     ]
    }
   ],
   "source": [
    "ayudante1 = Ayudante(\"Catalina\")\n",
    "ayudante2 = Ayudante(\"Julio\")\n",
    "ayudante3 = Ayudante(\"Patricio\")\n",
    "\n",
    "sisinfo = SistemasDeInformacion()\n",
    "sisinfo.agregar_ayudante(ayudante1)\n",
    "sisinfo.agregar_ayudante(ayudante2)\n",
    "\n",
    "avanzada = ProgramacionAvanzada()\n",
    "avanzada.agregar_ayudante(ayudante3)\n",
    "\n",
    "avanzada.agregar_ayudante(sisinfo.ayudantes.pop())\n",
    "\n",
    "\n",
    "print(\"Ayudantes de Sistemas de Informacion: \" + str(sisinfo.ayudantes))\n",
    "print(\"Ayudantes de Programacion Avanzada:  \" + str(avanzada.ayudantes))"
   ]
  },
  {
   "cell_type": "markdown",
   "metadata": {
    "slideshow": {
     "slide_type": "slide"
    }
   },
   "source": [
    "En este ejemplo los ayudantes no dependen de la existencia de un curso especifico. Por ejemplo si \"Sistemas de Informacion\" deja de existir, los ayudantes pueden estar en \"Pogramacion Avanzada\" o cualquier otro curso"
   ]
  },
  {
   "cell_type": "markdown",
   "metadata": {
    "slideshow": {
     "slide_type": "slide"
    }
   },
   "source": [
    "#### Herencia\n",
    "* Es una relación en que una **subclase** hereda atributos y métodos desde una **superclase**. \n",
    "* La **subclase** posee todos los atributos y métodos de la **superclase**, pero además puede tener sus propios métodos y atributos específicos.\n",
    "* Se representa con una flecha de punta vacía que apunta hacia la superclase."
   ]
  },
  {
   "cell_type": "markdown",
   "metadata": {
    "slideshow": {
     "slide_type": "slide"
    }
   },
   "source": [
    "### Símbolos de las relaciones\n",
    "\n",
    "<img src=\"./img/relaciones.png\" width=800></img>"
   ]
  },
  {
   "cell_type": "markdown",
   "metadata": {
    "slideshow": {
     "slide_type": "slide"
    }
   },
   "source": [
    "### Cardinalidad de las relaciones\n",
    "* Tanto para la composición como la agregación, la **cardinalidad** indica el grado y nivel de dependencia entre las relaciones.\n",
    "* La cardinalidad se indica en cada extremo de la relación, y se pueden presentar 3 casos:\n",
    "    - 1 o muchos: 1..*\n",
    "    - 0 o muchos: 0..*\n",
    "    - Número fijo: n"
   ]
  },
  {
   "cell_type": "markdown",
   "metadata": {
    "slideshow": {
     "slide_type": "slide"
    }
   },
   "source": [
    "### Ejemplo\n",
    "<img src=\"img/ejemplo_diagrama_de_clases.png\" width=\"800\">"
   ]
  },
  {
   "cell_type": "markdown",
   "metadata": {
    "slideshow": {
     "slide_type": "slide"
    }
   },
   "source": [
    "# Multiherencia\n",
    "\n",
    "\n",
    "Con multiherencia es posible crear clases que heredan de más de una clase 😱"
   ]
  },
  {
   "cell_type": "markdown",
   "metadata": {
    "slideshow": {
     "slide_type": "slide"
    }
   },
   "source": [
    "### Veamos un ejemplo 👀\n",
    "Supongamos una clase Artista que representa a una persona que trabaja en el área del espectáculo. Dentro del rubro podemos encontrar a un Cantante, un Actor o un Bailarin, los cuales haremos que hereden de la clase Artista:"
   ]
  },
  {
   "cell_type": "code",
   "execution_count": 12,
   "metadata": {
    "slideshow": {
     "slide_type": "slide"
    }
   },
   "outputs": [],
   "source": [
    "class Artista():\n",
    "\n",
    "    def __init__(self, nombre, tiempo):\n",
    "        self.nombre = nombre\n",
    "        self.tiempo_carrera = tiempo\n",
    "    \n",
    "    def presentacion(self):\n",
    "        print(f\"Hola! Me llamo {self.nombre} y llevo {self.tiempo_carrera} años de carrera como artista.\")"
   ]
  },
  {
   "cell_type": "code",
   "execution_count": 13,
   "metadata": {
    "slideshow": {
     "slide_type": "slide"
    }
   },
   "outputs": [],
   "source": [
    "class Cantante(Artista):\n",
    "\n",
    "    def __init__(self, nombre, tiempo, musica, numero_albumes):\n",
    "        super().__init__(nombre,tiempo)\n",
    "        self.estilo_musica = musica\n",
    "        self.albumes = numero_albumes\n",
    "        \n",
    "    def presentacion(self):\n",
    "        Artista.presentacion(self)\n",
    "        print(f'Soy cantante de {self.estilo_musica} y he grabado {self.albumes} albumes.')\n"
   ]
  },
  {
   "cell_type": "code",
   "execution_count": 14,
   "metadata": {
    "slideshow": {
     "slide_type": "slide"
    }
   },
   "outputs": [],
   "source": [
    "class Bailarin(Artista):\n",
    "\n",
    "    def __init__(self, nombre, tiempo, estilo):\n",
    "        super().__init__(nombre, tiempo)\n",
    "        self.estilo_baile = estilo\n",
    "        self.horas_entrenamiento = 5\n",
    "    \n",
    "    def presentacion(self):\n",
    "        Artista.presentacion(self)\n",
    "        print(f'Soy bailarin de {self.estilo_baile} y entreno {self.horas_entrenamiento} horas al día.')"
   ]
  },
  {
   "cell_type": "code",
   "execution_count": 15,
   "metadata": {
    "slideshow": {
     "slide_type": "slide"
    }
   },
   "outputs": [],
   "source": [
    "class Actor(Artista):\n",
    "\n",
    "    def __init__(self, nombre, tiempo, numero_peliculas, numero_series):\n",
    "        super().__init__(nombre, tiempo)\n",
    "        self.peliculas = numero_peliculas\n",
    "        self.series = numero_series\n",
    "    \n",
    "    def presentacion(self):\n",
    "        Artista.presentacion(self)\n",
    "        print(f'Soy actor, he salido en {self.peliculas} peliculas y {self.series} series.')"
   ]
  },
  {
   "cell_type": "markdown",
   "metadata": {
    "slideshow": {
     "slide_type": "subslide"
    }
   },
   "source": [
    "Ahora nuestro artista favorito puede hacerse famoso y comenzar a ganar premios😎 Creamos la clase Famoso que hereda de Cantante, Bailarin y Actor (porque obvio, las hace todas):"
   ]
  },
  {
   "cell_type": "code",
   "execution_count": 16,
   "metadata": {
    "slideshow": {
     "slide_type": "slide"
    }
   },
   "outputs": [],
   "source": [
    "class Famoso(Cantante, Bailarin, Actor):\n",
    "\n",
    "    def __init__(self, premios, nombre, tiempo, musica, albumes, estilo, peliculas, series):\n",
    "        # Solo un llamado, con todos los argumentos que tenemos\n",
    "        super().__init__(nombre, tiempo, musica, albumes, estilo, peliculas, series)\n",
    "        self.premios = premios\n",
    "    \n",
    "    def presentacion(self):\n",
    "        Cantante.presentacion(self)\n",
    "        Bailarin.presentacion(self)\n",
    "        Actor.presentacion(self)\n",
    "        print(f\"He ganado {self.premios} premios.\")"
   ]
  },
  {
   "cell_type": "code",
   "execution_count": 17,
   "metadata": {},
   "outputs": [
    {
     "ename": "TypeError",
     "evalue": "__init__() takes 5 positional arguments but 8 were given",
     "output_type": "error",
     "traceback": [
      "\u001b[0;31m---------------------------------------------------------------------------\u001b[0m",
      "\u001b[0;31mTypeError\u001b[0m                                 Traceback (most recent call last)",
      "Input \u001b[0;32mIn [17]\u001b[0m, in \u001b[0;36m<cell line: 1>\u001b[0;34m()\u001b[0m\n\u001b[0;32m----> 1\u001b[0m famoso \u001b[38;5;241m=\u001b[39m \u001b[43mFamoso\u001b[49m\u001b[43m(\u001b[49m\u001b[38;5;241;43m17\u001b[39;49m\u001b[43m,\u001b[49m\u001b[43m \u001b[49m\u001b[38;5;124;43m\"\u001b[39;49m\u001b[38;5;124;43mChayanne\u001b[39;49m\u001b[38;5;124;43m\"\u001b[39;49m\u001b[43m,\u001b[49m\u001b[43m \u001b[49m\u001b[38;5;241;43m43\u001b[39;49m\u001b[43m,\u001b[49m\u001b[43m \u001b[49m\u001b[38;5;124;43m\"\u001b[39;49m\u001b[38;5;124;43mpop latino\u001b[39;49m\u001b[38;5;124;43m\"\u001b[39;49m\u001b[43m,\u001b[49m\u001b[43m \u001b[49m\u001b[38;5;241;43m22\u001b[39;49m\u001b[43m,\u001b[49m\u001b[43m \u001b[49m\u001b[38;5;124;43m\"\u001b[39;49m\u001b[38;5;124;43mpop\u001b[39;49m\u001b[38;5;124;43m\"\u001b[39;49m\u001b[43m,\u001b[49m\u001b[43m \u001b[49m\u001b[38;5;241;43m4\u001b[39;49m\u001b[43m,\u001b[49m\u001b[43m \u001b[49m\u001b[38;5;241;43m10\u001b[39;49m\u001b[43m)\u001b[49m\n",
      "Input \u001b[0;32mIn [16]\u001b[0m, in \u001b[0;36mFamoso.__init__\u001b[0;34m(self, premios, nombre, tiempo, musica, albumes, estilo, peliculas, series)\u001b[0m\n\u001b[1;32m      3\u001b[0m \u001b[38;5;28;01mdef\u001b[39;00m \u001b[38;5;21m__init__\u001b[39m(\u001b[38;5;28mself\u001b[39m, premios, nombre, tiempo, musica, albumes, estilo, peliculas, series):\n\u001b[1;32m      4\u001b[0m     \u001b[38;5;66;03m# Solo un llamado, con todos los argumentos que tenemos\u001b[39;00m\n\u001b[0;32m----> 5\u001b[0m     \u001b[38;5;28;43msuper\u001b[39;49m\u001b[43m(\u001b[49m\u001b[43m)\u001b[49m\u001b[38;5;241;43m.\u001b[39;49m\u001b[38;5;21;43m__init__\u001b[39;49m\u001b[43m(\u001b[49m\u001b[43mnombre\u001b[49m\u001b[43m,\u001b[49m\u001b[43m \u001b[49m\u001b[43mtiempo\u001b[49m\u001b[43m,\u001b[49m\u001b[43m \u001b[49m\u001b[43mmusica\u001b[49m\u001b[43m,\u001b[49m\u001b[43m \u001b[49m\u001b[43malbumes\u001b[49m\u001b[43m,\u001b[49m\u001b[43m \u001b[49m\u001b[43mestilo\u001b[49m\u001b[43m,\u001b[49m\u001b[43m \u001b[49m\u001b[43mpeliculas\u001b[49m\u001b[43m,\u001b[49m\u001b[43m \u001b[49m\u001b[43mseries\u001b[49m\u001b[43m)\u001b[49m\n\u001b[1;32m      6\u001b[0m     \u001b[38;5;28mself\u001b[39m\u001b[38;5;241m.\u001b[39mpremios \u001b[38;5;241m=\u001b[39m premios\n",
      "\u001b[0;31mTypeError\u001b[0m: __init__() takes 5 positional arguments but 8 were given"
     ]
    }
   ],
   "source": [
    "famoso = Famoso(17, \"Chayanne\", 43, \"pop latino\", 22, \"pop\", 4, 10)"
   ]
  },
  {
   "cell_type": "markdown",
   "metadata": {
    "slideshow": {
     "slide_type": "slide"
    }
   },
   "source": [
    "### Problema 😥\n",
    "Esto sucede porque cuando entregamos los argumentos a un inicializador, se ejecuta el ```__init__``` de la primera clase que hereda, en este caso Cantante que tiene 5 argumentos (porque no debemos olvidar el self), entonces cuando continua con las siguientes clases y sus atributos nos dice que entregamos más argumentos de los necesarios."
   ]
  },
  {
   "cell_type": "markdown",
   "metadata": {
    "slideshow": {
     "slide_type": "slide"
    }
   },
   "source": [
    "### Solución: uso de * args y ** kwargs 🙌\n",
    "\n",
    "* ```*args```: secuencia de argumentos **posicionales** de largo variable (como una lista o tupla). El operador * desempaqueta el contenido de args y los pasa a la función según el orden en que vienen.\n",
    "* ```**kwargs```: secuencia de argumentos de largo variable, donde cada elemento tiene asociado un **keyword** (como un diccionario). El ** mapea los elementos en la función y los argumentos se asignan en función de su keyword."
   ]
  },
  {
   "cell_type": "markdown",
   "metadata": {
    "slideshow": {
     "slide_type": "slide"
    }
   },
   "source": [
    "En esta situación ocuparemos ```**kwargs``` para que cada argumento se entregue a la subclase que corresponda:"
   ]
  },
  {
   "cell_type": "code",
   "execution_count": 21,
   "metadata": {
    "slideshow": {
     "slide_type": "slide"
    }
   },
   "outputs": [],
   "source": [
    "class Artista():\n",
    "\n",
    "    def __init__(self, nombre, tiempo):\n",
    "        self.nombre = nombre\n",
    "        self.tiempo_carrera = tiempo\n",
    "    \n",
    "    def presentacion(self):\n",
    "        print(f\"Hola! Me llamo {self.nombre} y llevo {self.tiempo_carrera} años de carrera como artista.\")"
   ]
  },
  {
   "cell_type": "code",
   "execution_count": 50,
   "metadata": {
    "slideshow": {
     "slide_type": "slide"
    }
   },
   "outputs": [],
   "source": [
    "class Cantante(Artista):\n",
    "\n",
    "    def __init__(self, musica, numero_albumes, **kwargs):\n",
    "        super().__init__(**kwargs)\n",
    "        self.estilo_musica = musica\n",
    "        self.albumes = numero_albumes\n",
    "        \n",
    "    def presentacion(self):\n",
    "        Artista.presentacion(self)\n",
    "        print(f'Soy cantante de {self.estilo_musica} y he grabado {self.albumes} albumes.')\n",
    "\n",
    "        \n",
    "class Bailarin(Artista):\n",
    "\n",
    "    def __init__(self, estilo, **kwargs):\n",
    "        super().__init__(**kwargs)\n",
    "        self.estilo_baile = estilo\n",
    "        self.horas_entrenamiento = 5\n",
    "    \n",
    "    def presentacion(self):\n",
    "        Artista.presentacion(self)\n",
    "        print(f'Soy bailarin de {self.estilo_baile} y entreno {self.horas_entrenamiento} horas al día.')\n",
    "\n",
    "        \n",
    "class Actor(Artista):\n",
    "\n",
    "    def __init__(self, numero_peliculas, numero_series, **kwargs):\n",
    "        super().__init__(**kwargs)\n",
    "        self.peliculas = numero_peliculas\n",
    "        self.series = numero_series\n",
    "    \n",
    "    def presentacion(self):\n",
    "        Artista.presentacion(self)\n",
    "        print(f'Soy actor, he salido en {self.peliculas} peliculas y {self.series} series.')"
   ]
  },
  {
   "cell_type": "code",
   "execution_count": 51,
   "metadata": {
    "slideshow": {
     "slide_type": "slide"
    }
   },
   "outputs": [],
   "source": [
    "class Famoso(Cantante, Bailarin, Actor):\n",
    "\n",
    "    def __init__(self, premios, **kwargs):\n",
    "        # Solo un llamado, con todos los argumentos de las clases anteriores\n",
    "        super().__init__(**kwargs)\n",
    "        self.premios = premios\n",
    "    \n",
    "    def presentacion(self):\n",
    "        Cantante.presentacion(self)\n",
    "        Bailarin.presentacion(self)\n",
    "        Actor.presentacion(self)\n",
    "        print(f\"He ganado {self.premios} premios.\")"
   ]
  },
  {
   "cell_type": "code",
   "execution_count": 52,
   "metadata": {},
   "outputs": [],
   "source": [
    "famoso = Famoso(\n",
    "    17, nombre=\"Chayanne\", tiempo=43, musica=\"pop latino\", numero_albumes=22,\n",
    "    estilo=\"pop\", numero_peliculas=4, numero_series=10\n",
    "    )"
   ]
  },
  {
   "cell_type": "markdown",
   "metadata": {
    "slideshow": {
     "slide_type": "slide"
    }
   },
   "source": [
    "¡Super! Ahora hagamos que el famoso se presente (finjamos que no sabemos quien es chayanne)"
   ]
  },
  {
   "cell_type": "code",
   "execution_count": 5,
   "metadata": {
    "slideshow": {
     "slide_type": "slide"
    }
   },
   "outputs": [
    {
     "name": "stdout",
     "output_type": "stream",
     "text": [
      "Hola! Me llamo Chayanne y llevo 43 años de carrera como artista.\n",
      "Soy cantante de pop latino y he grabado 22 albumes.\n",
      "Hola! Me llamo Chayanne y llevo 43 años de carrera como artista.\n",
      "Soy bailarin de pop y entreno 5 horas al día.\n",
      "Hola! Me llamo Chayanne y llevo 43 años de carrera como artista.\n",
      "Soy actor, he salido en 4 peliculas y 10 series.\n",
      "He ganado 17 premios.\n"
     ]
    }
   ],
   "source": [
    "famoso.presentacion()"
   ]
  },
  {
   "cell_type": "markdown",
   "metadata": {
    "slideshow": {
     "slide_type": "slide"
    }
   },
   "source": [
    "### ¡Problema del diamante! 😨\n",
    "\n",
    "\n",
    "Como podemos observar, el método presentación que está en Artista es llamado 3 veces, cada uno hecho por las subclases Cantante, Bailarín y Actor."
   ]
  },
  {
   "cell_type": "markdown",
   "metadata": {
    "slideshow": {
     "slide_type": "slide"
    }
   },
   "source": [
    "### Solución 🙌\n",
    "Nuestro prolema se soluciona ocupando ```super()``` de python. Veamos:"
   ]
  },
  {
   "cell_type": "code",
   "execution_count": 54,
   "metadata": {
    "slideshow": {
     "slide_type": "slide"
    }
   },
   "outputs": [],
   "source": [
    "class Cantante(Artista):\n",
    "\n",
    "    def __init__(self, musica, numero_albumes, **kwargs):\n",
    "        super().__init__(**kwargs)\n",
    "        self.estilo_musica = musica\n",
    "        self.albumes = numero_albumes\n",
    "        \n",
    "    def presentacion(self):\n",
    "        super().presentacion()\n",
    "        print(f'Soy cantante de {self.estilo_musica} y he grabado {self.albumes} albumes.')\n",
    "\n",
    "class Bailarin(Artista):\n",
    "\n",
    "    def __init__(self, estilo, **kwargs):\n",
    "        super().__init__(**kwargs)\n",
    "        self.estilo_baile = estilo\n",
    "        self.horas_entrenamiento = 5\n",
    "    \n",
    "    def presentacion(self):\n",
    "        super().presentacion()\n",
    "        print(f'Soy bailarin de {self.estilo_baile} y entreno {self.horas_entrenamiento} horas al día.')\n",
    "\n",
    "class Actor(Artista):\n",
    "\n",
    "    def __init__(self, numero_peliculas, numero_series, **kwargs):\n",
    "        super().__init__(**kwargs)\n",
    "        self.peliculas = numero_peliculas\n",
    "        self.series = numero_series\n",
    "    \n",
    "    def presentacion(self):\n",
    "        super().presentacion()\n",
    "        print(f'Soy actor, he salido en {self.peliculas} peliculas y {self.series} series.')"
   ]
  },
  {
   "cell_type": "code",
   "execution_count": 55,
   "metadata": {
    "slideshow": {
     "slide_type": "slide"
    }
   },
   "outputs": [
    {
     "name": "stdout",
     "output_type": "stream",
     "text": [
      "Hola! Me llamo Chayanne y llevo 43 años de carrera como artista.\n",
      "Soy actor, he salido en 4 peliculas y 10 series.\n",
      "Soy bailarin de pop y entreno 5 horas al día.\n",
      "Soy cantante de pop latino y he grabado 22 albumes.\n",
      "He ganado 17 premios.\n"
     ]
    }
   ],
   "source": [
    "class Famoso(Cantante, Bailarin, Actor):\n",
    "\n",
    "    def __init__(self, premios, **kwargs):\n",
    "        # Solo un llamado, con todos los argumentos de las clases anteriores\n",
    "        super().__init__(**kwargs)\n",
    "        self.premios = premios\n",
    "    \n",
    "    def presentacion(self):\n",
    "        super().presentacion()\n",
    "        print(f\"He ganado {self.premios} premios.\")\n",
    "\n",
    "famoso = Famoso(\n",
    "    17, nombre=\"Chayanne\", tiempo=43, musica=\"pop latino\", numero_albumes=22,\n",
    "    estilo=\"pop\", numero_peliculas=4, numero_series=10\n",
    "    )\n",
    "\n",
    "\n",
    "famoso.presentacion()"
   ]
  },
  {
   "cell_type": "markdown",
   "metadata": {
    "slideshow": {
     "slide_type": "slide"
    }
   },
   "source": [
    "# Clases abstractas"
   ]
  },
  {
   "cell_type": "markdown",
   "metadata": {
    "slideshow": {
     "slide_type": "slide"
    }
   },
   "source": [
    "## ¿Qué son?\n",
    "\n",
    "Son clases que **no pueden ser instanciadas** y tienen como propósito modelar el comportamiento base de un sistema, para luego ser heredadas por clases específicas.\n",
    "\n",
    "La gran diferencia entre heredar desde una clase normal y una clase abstracta\n",
    "es que esta última puede definir **métodos y propiedades que obligatioriamente deben implementar sus clases hijas**.\n",
    "Estos se llaman ***abstractmethod*** y ***abstractproperty***. "
   ]
  },
  {
   "cell_type": "markdown",
   "metadata": {
    "slideshow": {
     "slide_type": "slide"
    }
   },
   "source": [
    "## ¿Cuándo usarlas?\n",
    "\n",
    "El mejor uso para una clase abstracta es para definir el comportamiento base de una familia de clases que comparten cierta lógica en sus atributos y métodos. La clase abstracta actúa como un \"plano\", que contiene todas las características en común de esta familia de clases. Al utilizar clases abstractas, se reduce el *boilerplate* (código repetitivo), se facilita la refactorización de las clases y permite realizar cambios sin romper la implementación actual del sistema."
   ]
  },
  {
   "cell_type": "markdown",
   "metadata": {
    "slideshow": {
     "slide_type": "slide"
    }
   },
   "source": [
    "## ¿Cómo creo clases abstractas?\n",
    "\n",
    "Aquí veremos unos ejemplos :)"
   ]
  },
  {
   "cell_type": "markdown",
   "metadata": {
    "slideshow": {
     "slide_type": "slide"
    }
   },
   "source": [
    "<img src=\"img/Amongus.png\" width=\"700\">"
   ]
  },
  {
   "cell_type": "code",
   "execution_count": 35,
   "metadata": {
    "slideshow": {
     "slide_type": "slide"
    }
   },
   "outputs": [],
   "source": [
    "from abc import ABC, abstractmethod\n",
    "from secrets import choice\n",
    "\n",
    "\n",
    "class Personaje(ABC):\n",
    "    def __init__(self,nombre, color, tareas):\n",
    "        self.color = color #str\n",
    "        self.tareas = tareas #list (tarea,lugar)\n",
    "        self.nombre = nombre\n",
    "\n",
    "    @abstractmethod\n",
    "    def hacer_tareas(self):\n",
    "        tarea = choice(self.tareas)\n",
    "        print(f\"{self.nombre} realiza con exito la tarea {tarea[0]} en el {tarea[1]} 😈\")\n",
    "\n",
    "    @abstractmethod\n",
    "    def habilidad_especial(self):\n",
    "        print(f\"{self.nombre} utiliza su habilidad especial 😈\")\n",
    "    \n",
    "    def presionar_boton(self):\n",
    "        print(f\"¡¡{self.nombre} llamo a una reunion urgente!!\")\n",
    "\n",
    "    def revisar_camaras(self):\n",
    "        print(f\"{self.nombre} revisa las camaras 🎥\")\n",
    "    \n",
    "    def revisar_registros(self):\n",
    "        print(f\"{self.nombre} revisa el registro de ingresos📖\")\n",
    "    \n",
    "    def revisar_administracion(self):\n",
    "        print(f\"{self.nombre} revisa el panel de admin y ve a todos en el mapa 🗺\")\n",
    "    \n",
    "    def reportar(self,color,lugar):\n",
    "        print(f\"¡¡{self.nombre} encontró un cuerpo {color} en el {lugar}!!\")\n",
    "    "
   ]
  },
  {
   "cell_type": "code",
   "execution_count": 37,
   "metadata": {
    "slideshow": {
     "slide_type": "slide"
    }
   },
   "outputs": [],
   "source": [
    "class Impostor(Personaje):\n",
    "    def __init__(self, *args, **kwargs):\n",
    "        super().__init__(*args, **kwargs)\n",
    "        self.sabotajes={\n",
    "            \"puertas\":\"¡¡se cerraron las puertas en la habitación!!\",\n",
    "            \"electricidad\":\"¡¡se cortó la electricidad en la nave!!\",\n",
    "            \"reactor\":\"¡¡el reactor esta fallando!!\",\n",
    "            \"camaras\": \"¡¡las camaras se apagaron!!\"}\n",
    "    \n",
    "    def hacer_tareas(self):\n",
    "        super().hacer_tareas()\n",
    "\n",
    "    def habilidad_especial(self, destino):\n",
    "        super().habilidad_especial()\n",
    "        print(f\"{self.nombre} ingresa a las alcantarillas y se dirije a {destino}\")\n",
    "    \n",
    "    def sabotear(self, key):\n",
    "        if key in self.sabotajes.keys:\n",
    "            print(self.sabotajes[key])\n",
    "    \n",
    "    def matar_tripulante(self, tripulante):\n",
    "        print(f\"el impostor asesinó al tripulante {tripulante.nombre}\")"
   ]
  },
  {
   "cell_type": "code",
   "execution_count": 39,
   "metadata": {
    "slideshow": {
     "slide_type": "slide"
    }
   },
   "outputs": [],
   "source": [
    "class Tripulante(Personaje):\n",
    "\n",
    "    def __init__(self,*args,**kwargs):\n",
    "    \n",
    "        super().__init__(*args,*kwargs)\n",
    "        self.habilidad=False\n",
    "    \n",
    "    def hacer_tareas(self):\n",
    "        super().hacer_tareas()\n",
    "\n",
    "    def habilidad_especial(self, destino):\n",
    "        super().habilidad_especial()\n",
    "        if not(self.habilidad):\n",
    "            print(\"pero no tiene habilidad :(\")"
   ]
  },
  {
   "cell_type": "code",
   "execution_count": 10,
   "metadata": {
    "slideshow": {
     "slide_type": "slide"
    }
   },
   "outputs": [],
   "source": [
    "class Cientifico(Tripulante):\n",
    "    def __init__(self, *args, **kwargs):\n",
    "        super().__init__(*args, **kwargs)\n",
    "        self.habilidad==True\n",
    "    \n",
    "    def hacer_tareas(self):\n",
    "        super().hacer_tareas()\n",
    "    \n",
    "    def habilidad_especial(self, destino):\n",
    "        super().habilidad_especial(destino)\n",
    "        print(\"y revisa el estado de todos los miembros de la nave 🏥\")"
   ]
  },
  {
   "cell_type": "code",
   "execution_count": 11,
   "metadata": {
    "slideshow": {
     "slide_type": "slide"
    }
   },
   "outputs": [],
   "source": [
    "class Fantasma(Tripulante, Impostor):\n",
    "    def __init__(self,tipo_miembro, *args, **kwargs):\n",
    "        super().__init__(*args, **kwargs)\n",
    "        self.habilidad==True\n",
    "        self.tipo_miembro=tipo_miembro\n",
    "    \n",
    "    def hacer_tareas(self):\n",
    "        self.tipo_miembro.hacer_tareas()\n",
    "    \n",
    "    def habilidad_especial(self):\n",
    "        Tripulante.habilidad_especial()\n",
    "\n",
    "    def sabotear(self, key):\n",
    "        if self.tipo_miembro == Impostor:\n",
    "            self.tipo_miembro.sabotear()\n",
    "        else:\n",
    "            print(\"No puedes hacer eso :(\")\n",
    "    \n",
    "    def matar_tripulante(self, tripulante):\n",
    "        print(\"No puedes hacer eso :(\")\n",
    "\n",
    "    def reportar(self, color, lugar):\n",
    "        print(\"ya no puedes hacer eso :(\")\n",
    "    \n",
    "    def presionar_boton(self):\n",
    "        print(\"ya no puedes hacer eso :(\")"
   ]
  },
  {
   "cell_type": "markdown",
   "metadata": {
    "slideshow": {
     "slide_type": "slide"
    }
   },
   "source": [
    "Ahora probemos nuestro codigo :D"
   ]
  },
  {
   "cell_type": "code",
   "execution_count": 38,
   "metadata": {
    "slideshow": {
     "slide_type": "slide"
    }
   },
   "outputs": [
    {
     "name": "stdout",
     "output_type": "stream",
     "text": [
      "Juanitox777 utiliza su habilidad especial 😈\n",
      "Juanitox777 ingresa a las alcantarillas y se dirije a DCC\n",
      "Juanitox777 realiza con exito la tarea Pasar tarjeta en el Admin 😈\n"
     ]
    }
   ],
   "source": [
    "impostor=Impostor(\"Juanitox777\",\"Rojo\",[(\"limpiar hojas\",\"Reactor\"),(\"Pasar tarjeta\",\"Admin\"),(\"Unir cables\",\"Electricidad\"),(\"Escanearse\",\"Enfermeria\")])   \n",
    "\n",
    "impostor.habilidad_especial(\"DCC\")\n",
    "impostor.hacer_tareas()"
   ]
  },
  {
   "cell_type": "markdown",
   "metadata": {
    "slideshow": {
     "slide_type": "slide"
    }
   },
   "source": [
    "## Otro ejemplo\n",
    "\n",
    "Veamos el ejemplo del tablero de ajedrez en código.\n",
    "\n",
    "Primero creamos la clase abstracta *Pieza*. Todas las clases abstractas deben\n",
    "heredar de la clase *ABC* del módulo _abc_."
   ]
  },
  {
   "cell_type": "markdown",
   "metadata": {
    "slideshow": {
     "slide_type": "slide"
    }
   },
   "source": [
    "![Chess](img/chess_example.png 'Chess example')"
   ]
  },
  {
   "cell_type": "code",
   "execution_count": 1,
   "metadata": {
    "slideshow": {
     "slide_type": "slide"
    }
   },
   "outputs": [],
   "source": [
    "from abc import ABC, abstractmethod\n",
    "\n",
    "\n",
    "class Pieza(ABC):\n",
    "    def __init__(self, id):\n",
    "        self.__posicion = (0, 0)\n",
    "        self.id = id\n",
    "\n",
    "    @property\n",
    "    def posicion(self):\n",
    "        return self.__posicion\n",
    "\n",
    "    @posicion.setter\n",
    "    def posicion(self, nueva_posicion):\n",
    "        if nueva_posicion < (0, 0):\n",
    "            print('No se puede mover a esta posición')\n",
    "            return False\n",
    "        elif nueva_posicion > (7, 7):\n",
    "            print('No se puede mover a esta posición')\n",
    "            return False\n",
    "        else:\n",
    "            self.__posicion = nueva_posicion\n",
    "            print(f'{self.id} se mueve a {self.posicion}')\n",
    "            return True\n",
    "\n",
    "    @abstractmethod\n",
    "    def moverse(self):\n",
    "        self.posicion = (self.posicion[0], self.posicion[1] + 1)\n"
   ]
  },
  {
   "cell_type": "markdown",
   "metadata": {
    "slideshow": {
     "slide_type": "slide"
    }
   },
   "source": [
    "Luego se crean dos piezas que heredan de *Pieza*: *Peon* y *Torre*. La primera implementa\n",
    "el _abstractmethod_ que por defecto le heredó _Pieza_, mientras que la segunda también implementa\n",
    "el método, pero reescrito.\n"
   ]
  },
  {
   "cell_type": "code",
   "execution_count": 2,
   "metadata": {
    "slideshow": {
     "slide_type": "slide"
    }
   },
   "outputs": [],
   "source": [
    "class Peon(Pieza):\n",
    "    def __init__(self, id):\n",
    "        super().__init__(id)\n",
    "\n",
    "    def moverse(self):\n",
    "        super().moverse()\n",
    "\n",
    "\n",
    "class Torre(Pieza):\n",
    "    def __init__(self, id):\n",
    "        super().__init__(id)\n",
    "\n",
    "    def moverse(self, direccion, n):\n",
    "        if direccion == 'arriba':\n",
    "            self.posicion = (self.posicion[0], self.posicion[1] + n)\n",
    "        elif direccion == 'abajo':\n",
    "            self.posicion = (self.posicion[0], self.posicion[1] - n)\n",
    "        elif direccion == 'derecha':\n",
    "            self.posicion = (self.posicion[0] + n, self.posicion[1])\n",
    "        else:\n",
    "            self.posicion = (self.posicion[0] - n, self.posicion[1])\n",
    "\n",
    "\n",
    "class Caballo(Pieza):\n",
    "    def __init__(self, id):\n",
    "        super().__init__(id)\n",
    "\n",
    "    def moverse(self):\n",
    "        pass\n"
   ]
  },
  {
   "cell_type": "markdown",
   "metadata": {
    "slideshow": {
     "slide_type": "slide"
    }
   },
   "source": [
    "Ahora simulemos el comportamiento de estas entidades, en un tablero muy pero muy simplificado.\n"
   ]
  },
  {
   "cell_type": "code",
   "execution_count": 3,
   "metadata": {
    "slideshow": {
     "slide_type": "slide"
    }
   },
   "outputs": [
    {
     "name": "stdout",
     "output_type": "stream",
     "text": [
      "peon se mueve a (0, 1)\n",
      "peon se mueve a (0, 2)\n",
      "peon se mueve a (0, 3)\n",
      "peon se mueve a (0, 4)\n",
      "peon se mueve a (0, 5)\n",
      "torre se mueve a (5, 0)\n",
      "torre se mueve a (5, 3)\n"
     ]
    }
   ],
   "source": [
    "# Se instancian las clases\n",
    "\n",
    "peon = Peon('peon')\n",
    "torre = Torre('torre')\n",
    "\n",
    "\n",
    "# Testeamos\n",
    "\n",
    "for i in range(5):\n",
    "    peon.moverse()\n",
    "\n",
    "torre.moverse('derecha', 5)\n",
    "torre.moverse('arriba', 3)\n"
   ]
  },
  {
   "cell_type": "markdown",
   "metadata": {
    "slideshow": {
     "slide_type": "slide"
    }
   },
   "source": [
    "¿Qué sucede con el método \\_\\_mro\\_\\_ con las clases abstractas? Veamos."
   ]
  },
  {
   "cell_type": "code",
   "execution_count": 4,
   "metadata": {
    "slideshow": {
     "slide_type": "slide"
    }
   },
   "outputs": [
    {
     "data": {
      "text/plain": [
       "(__main__.Peon, __main__.Pieza, abc.ABC, object)"
      ]
     },
     "execution_count": 4,
     "metadata": {},
     "output_type": "execute_result"
    }
   ],
   "source": [
    "Peon.__mro__\n"
   ]
  },
  {
   "cell_type": "markdown",
   "metadata": {
    "slideshow": {
     "slide_type": "slide"
    }
   },
   "source": [
    "*Peon* hereda de *Pieza*, que a su vez hereda de *ABC*, que hereda de *object*."
   ]
  },
  {
   "cell_type": "markdown",
   "metadata": {
    "slideshow": {
     "slide_type": "slide"
    }
   },
   "source": [
    "# Ahora pongamos a prueba lo que aprendimos 🙌\n",
    "\n",
    "Debemos recrear el siguiente diagrama utilizando todos los contenidos antes vistos :D\n",
    "\n",
    "<img src=\"img/vehiculos.png\" width=\"600\">"
   ]
  },
  {
   "cell_type": "code",
   "execution_count": 14,
   "metadata": {
    "slideshow": {
     "slide_type": "slide"
    }
   },
   "outputs": [],
   "source": [
    "from abc import ABC, abstractmethod\n",
    "\n",
    "class Vehiculo(ABC):\n",
    "    def __init__(self, peso, hp, capacidad):\n",
    "        self.peso = peso\n",
    "        self.hp = hp\n",
    "        self.capacidad = capacidad\n",
    "        self.__kilometraje = 0\n",
    "\n",
    "    @property\n",
    "    def kilometraje(self):\n",
    "        return self.__kilometraje\n",
    "\n",
    "    @abstractmethod\n",
    "    def conducir(self, distancia):\n",
    "        self.__kilometraje += distancia"
   ]
  },
  {
   "cell_type": "markdown",
   "metadata": {
    "slideshow": {
     "slide_type": "slide"
    }
   },
   "source": [
    "Luego, creamos las clases que heredarán de *Vehiculo*, en este caso serán *Moto*, *Auto* y *Camion*."
   ]
  },
  {
   "cell_type": "code",
   "execution_count": 15,
   "metadata": {
    "slideshow": {
     "slide_type": "slide"
    }
   },
   "outputs": [],
   "source": [
    "import random\n",
    "import string\n",
    "\n",
    "class Moto(Vehiculo):\n",
    "    def __init__(self, peso, hp, capacidad):\n",
    "        super().__init__(peso, hp, capacidad)\n",
    "        self.ruedas = 2\n",
    "\n",
    "    def conducir(self, distancia):\n",
    "        super().conducir(distancia)\n",
    "        print(f\"La moto condujo {distancia} kilómetros. En total, ha conducido {self.kilometraje} kilómetros.\")\n",
    "\n",
    "class Camion(Vehiculo):\n",
    "    def __init__(self, peso, hp, capacidad):\n",
    "        super().__init__(peso, hp, capacidad)\n",
    "        self.ruedas = 6\n",
    "\n",
    "    def conducir(self, distancia):\n",
    "        super().conducir(distancia)\n",
    "        print(f\"El camión condujo {distancia} kilómetros. En total, ha conducido {self.kilometraje} kilómetros.\")"
   ]
  },
  {
   "cell_type": "code",
   "execution_count": 16,
   "metadata": {
    "slideshow": {
     "slide_type": "slide"
    }
   },
   "outputs": [],
   "source": [
    "class Auto(Vehiculo):\n",
    "    def __init__(self, peso, hp, capacidad):\n",
    "        super().__init__(peso, hp, capacidad)\n",
    "        self.ruedas = 4\n",
    "        self.__patente = self.generar_patente()\n",
    "\n",
    "    @property\n",
    "    def patente(self):\n",
    "        return f\"{self.__patente[0:2]}-{self.__patente[2:4]}-{self.__patente[4:6]}\"\n",
    "\n",
    "    def conducir(self, distancia):\n",
    "        super().conducir(distancia)\n",
    "        print(f\"El auto {self.patente} condujo {distancia} kilómetros. En total, ha conducido {self.kilometraje} kilómetros.\")\n",
    "\n",
    "    def generar_patente(self):\n",
    "        patente = \"\"\n",
    "        for i in range(4):\n",
    "            letra = random.choice(string.ascii_uppercase)\n",
    "            patente += letra\n",
    "\n",
    "        for i in range(2):\n",
    "            numero = random.choice([0,1,2,3,4,5,6,7,8,9])\n",
    "            patente += str(numero)\n",
    "\n",
    "        return patente"
   ]
  },
  {
   "cell_type": "markdown",
   "metadata": {
    "slideshow": {
     "slide_type": "slide"
    }
   },
   "source": [
    "En el código anterior, las tres clases heredadas añaden un ``print`` personalizado al método heredado ``conducir``. La clase ``Auto`` cuenta con el atributo *patente*, un método que la genera, y una property que nos facilita el formato al momento de consultar su patente."
   ]
  },
  {
   "cell_type": "code",
   "execution_count": 18,
   "metadata": {
    "slideshow": {
     "slide_type": "slide"
    }
   },
   "outputs": [
    {
     "name": "stdout",
     "output_type": "stream",
     "text": [
      "La moto condujo 200 kilómetros. En total, ha conducido 200 kilómetros.\n",
      "El auto CH-FH-54 condujo 350 kilómetros. En total, ha conducido 350 kilómetros.\n",
      "El camión condujo 800 kilómetros. En total, ha conducido 800 kilómetros.\n"
     ]
    }
   ],
   "source": [
    "# Se instancian las clases\n",
    "moto = Moto(500, 200, 1)\n",
    "auto = Auto(2300, 250, 4)\n",
    "camion = Camion(6400, 500, 2)\n",
    "\n",
    "# Testeamos\n",
    "moto.conducir(200)\n",
    "auto.conducir(350)\n",
    "camion.conducir(800)"
   ]
  },
  {
   "cell_type": "markdown",
   "metadata": {
    "slideshow": {
     "slide_type": "slide"
    }
   },
   "source": [
    "Ahora, crearemos una clase *SuzukiSPresso* (o mejor conocido como \"Ñuñuki\") que herede la clase *Auto*"
   ]
  },
  {
   "cell_type": "code",
   "execution_count": 19,
   "metadata": {
    "slideshow": {
     "slide_type": "slide"
    }
   },
   "outputs": [],
   "source": [
    "class SuzukiSpresso(Auto):\n",
    "    \n",
    "    def __init__(self, porcentaje_belleza, *args, **kwargs):\n",
    "        super().__init__(*args, **kwargs)\n",
    "        self.porcentaje_belleza = porcentaje_belleza\n",
    "    \n",
    "    def indicar_belleza(self):\n",
    "        patente = super().patente\n",
    "        print(f\"El ñuñuki patente {patente} es {self.porcentaje_belleza}% bello\")"
   ]
  },
  {
   "cell_type": "code",
   "execution_count": 20,
   "metadata": {
    "slideshow": {
     "slide_type": "slide"
    }
   },
   "outputs": [
    {
     "name": "stdout",
     "output_type": "stream",
     "text": [
      "El ñuñuki patente VB-GD-87 es 0% bello\n"
     ]
    }
   ],
   "source": [
    "# Se instancia la clase\n",
    "nunuki = SuzukiSpresso(0, 2300, 250, 4)\n",
    "\n",
    "# Testeamos\n",
    "nunuki.indicar_belleza()"
   ]
  }
 ],
 "metadata": {
  "celltoolbar": "Slideshow",
  "kernelspec": {
   "display_name": "Python 3.10.6 64-bit",
   "language": "python",
   "name": "python3"
  },
  "language_info": {
   "codemirror_mode": {
    "name": "ipython",
    "version": 3
   },
   "file_extension": ".py",
   "mimetype": "text/x-python",
   "name": "python",
   "nbconvert_exporter": "python",
   "pygments_lexer": "ipython3",
   "version": "3.10.6"
  },
  "vscode": {
   "interpreter": {
    "hash": "e119bc4a7770495676f1c48529cfd8e2f70445fd1f64697d7cdc8ed7ad48c334"
   }
  }
 },
 "nbformat": 4,
 "nbformat_minor": 2
}
